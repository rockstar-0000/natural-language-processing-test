{
 "cells": [
  {
   "cell_type": "markdown",
   "metadata": {
    "collapsed": true
   },
   "source": [
    "# Artificial Intelligence Nanodegree\n",
    "## Machine Translation Project\n",
    "In this notebook, sections that end with **'(IMPLEMENTATION)'** in the header indicate that the following blocks of code will require additional functionality which you must provide. Please be sure to read the instructions carefully!\n",
    "\n",
    "## Introduction\n",
    "In this notebook, you will build a deep neural network that functions as part of an end-to-end machine translation pipeline. Your completed pipeline will accept English text as input and return the French translation.\n",
    "\n",
    "- **Preprocess** - You'll convert text to sequence of integers.\n",
    "- **Models** Create models which accepts a sequence of integers as input and returns a probability distribution over possible translations. After learning about the basic types of neural networks that are often used for machine translation, you will engage in your own investigations, to design your own model!\n",
    "- **Prediction** Run the model on English text."
   ]
  },
  {
   "cell_type": "code",
   "execution_count": 1,
   "metadata": {},
   "outputs": [],
   "source": [
    "%load_ext autoreload\n",
    "%aimport helper, tests\n",
    "%autoreload 1"
   ]
  },
  {
   "cell_type": "code",
   "execution_count": 2,
   "metadata": {},
   "outputs": [
    {
     "name": "stderr",
     "output_type": "stream",
     "text": [
      "Using TensorFlow backend.\n"
     ]
    }
   ],
   "source": [
    "import collections\n",
    "\n",
    "import helper\n",
    "import numpy as np\n",
    "import project_tests as tests\n",
    "\n",
    "from keras.preprocessing.text import Tokenizer\n",
    "from keras.preprocessing.sequence import pad_sequences\n",
    "from keras.models import Model\n",
    "from keras.layers import GRU, Input, Dense, TimeDistributed, Activation, RepeatVector, Bidirectional\n",
    "from keras.layers.embeddings import Embedding\n",
    "from keras.optimizers import Adam\n",
    "from keras.losses import sparse_categorical_crossentropy"
   ]
  },
  {
   "cell_type": "markdown",
   "metadata": {},
   "source": [
    "### Verify access to the GPU\n",
    "The following test applies only if you expect to be using a GPU, e.g., while running in a Udacity Workspace or using an AWS instance with GPU support. Run the next cell, and verify that the device_type is \"GPU\".\n",
    "- If the device is not GPU & you are running from a Udacity Workspace, then save your workspace with the icon at the top, then click \"enable\" at the bottom of the workspace.\n",
    "- If the device is not GPU & you are running from an AWS instance, then refer to the cloud computing instructions in the classroom to verify your setup steps."
   ]
  },
  {
   "cell_type": "code",
   "execution_count": 3,
   "metadata": {},
   "outputs": [
    {
     "name": "stdout",
     "output_type": "stream",
     "text": [
      "[name: \"/cpu:0\"\n",
      "device_type: \"CPU\"\n",
      "memory_limit: 268435456\n",
      "locality {\n",
      "}\n",
      "incarnation: 2564278573316075656\n",
      ", name: \"/gpu:0\"\n",
      "device_type: \"GPU\"\n",
      "memory_limit: 357302272\n",
      "locality {\n",
      "  bus_id: 1\n",
      "}\n",
      "incarnation: 9916143926712173020\n",
      "physical_device_desc: \"device: 0, name: Tesla K80, pci bus id: 0000:00:04.0\"\n",
      "]\n"
     ]
    }
   ],
   "source": [
    "from tensorflow.python.client import device_lib\n",
    "print(device_lib.list_local_devices())"
   ]
  },
  {
   "cell_type": "markdown",
   "metadata": {},
   "source": [
    "## Dataset\n",
    "We begin by investigating the dataset that will be used to train and evaluate your pipeline.  The most common datasets used for machine translation are from [WMT](http://www.statmt.org/).  However, that will take a long time to train a neural network on.  We'll be using a dataset we created for this project that contains a small vocabulary.  You'll be able to train your model in a reasonable time with this dataset.\n",
    "### Load Data\n",
    "The data is located in `data/small_vocab_en` and `data/small_vocab_fr`. The `small_vocab_en` file contains English sentences with their French translations in the `small_vocab_fr` file. Load the English and French data from these files from running the cell below."
   ]
  },
  {
   "cell_type": "code",
   "execution_count": 4,
   "metadata": {},
   "outputs": [
    {
     "name": "stdout",
     "output_type": "stream",
     "text": [
      "Dataset Loaded\n"
     ]
    }
   ],
   "source": [
    "# Load English data\n",
    "english_sentences = helper.load_data('data/small_vocab_en')\n",
    "# Load French data\n",
    "french_sentences = helper.load_data('data/small_vocab_fr')\n",
    "\n",
    "print('Dataset Loaded')"
   ]
  },
  {
   "cell_type": "markdown",
   "metadata": {},
   "source": [
    "### Files\n",
    "Each line in `small_vocab_en` contains an English sentence with the respective translation in each line of `small_vocab_fr`.  View the first two lines from each file."
   ]
  },
  {
   "cell_type": "code",
   "execution_count": 6,
   "metadata": {},
   "outputs": [
    {
     "name": "stdout",
     "output_type": "stream",
     "text": [
      "small_vocab_en Line 1:  new jersey is sometimes quiet during autumn , and it is snowy in april .\n",
      "small_vocab_fr Line 1:  new jersey est parfois calme pendant l' automne , et il est neigeux en avril .\n",
      "small_vocab_en Line 2:  the united states is usually chilly during july , and it is usually freezing in november .\n",
      "small_vocab_fr Line 2:  les états-unis est généralement froid en juillet , et il gèle habituellement en novembre .\n"
     ]
    }
   ],
   "source": [
    "for sample_i in range(2):\n",
    "    print('small_vocab_en Line {}:  {}'.format(sample_i + 1, english_sentences[sample_i]))\n",
    "    print('small_vocab_fr Line {}:  {}'.format(sample_i + 1, french_sentences[sample_i]))"
   ]
  },
  {
   "cell_type": "markdown",
   "metadata": {},
   "source": [
    "From looking at the sentences, you can see they have been preprocessed already.  The puncuations have been delimited using spaces. All the text have been converted to lowercase.  This should save you some time, but the text requires more preprocessing.\n",
    "### Vocabulary\n",
    "The complexity of the problem is determined by the complexity of the vocabulary.  A more complex vocabulary is a more complex problem.  Let's look at the complexity of the dataset we'll be working with."
   ]
  },
  {
   "cell_type": "code",
   "execution_count": 7,
   "metadata": {},
   "outputs": [
    {
     "name": "stdout",
     "output_type": "stream",
     "text": [
      "1823250 English words.\n",
      "227 unique English words.\n",
      "10 Most common words in the English dataset:\n",
      "\"is\" \",\" \".\" \"in\" \"it\" \"during\" \"the\" \"but\" \"and\" \"sometimes\"\n",
      "\n",
      "1961295 French words.\n",
      "355 unique French words.\n",
      "10 Most common words in the French dataset:\n",
      "\"est\" \".\" \",\" \"en\" \"il\" \"les\" \"mais\" \"et\" \"la\" \"parfois\"\n"
     ]
    }
   ],
   "source": [
    "english_words_counter = collections.Counter([word for sentence in english_sentences for word in sentence.split()])\n",
    "french_words_counter = collections.Counter([word for sentence in french_sentences for word in sentence.split()])\n",
    "\n",
    "print('{} English words.'.format(len([word for sentence in english_sentences for word in sentence.split()])))\n",
    "print('{} unique English words.'.format(len(english_words_counter)))\n",
    "print('10 Most common words in the English dataset:')\n",
    "print('\"' + '\" \"'.join(list(zip(*english_words_counter.most_common(10)))[0]) + '\"')\n",
    "print()\n",
    "print('{} French words.'.format(len([word for sentence in french_sentences for word in sentence.split()])))\n",
    "print('{} unique French words.'.format(len(french_words_counter)))\n",
    "print('10 Most common words in the French dataset:')\n",
    "print('\"' + '\" \"'.join(list(zip(*french_words_counter.most_common(10)))[0]) + '\"')"
   ]
  },
  {
   "cell_type": "markdown",
   "metadata": {},
   "source": [
    "For comparison, _Alice's Adventures in Wonderland_ contains 2,766 unique words of a total of 15,500 words.\n",
    "## Preprocess\n",
    "For this project, you won't use text data as input to your model. Instead, you'll convert the text into sequences of integers using the following preprocess methods:\n",
    "1. Tokenize the words into ids\n",
    "2. Add padding to make all the sequences the same length.\n",
    "\n",
    "Time to start preprocessing the data...\n",
    "### Tokenize (IMPLEMENTATION)\n",
    "For a neural network to predict on text data, it first has to be turned into data it can understand. Text data like \"dog\" is a sequence of ASCII character encodings.  Since a neural network is a series of multiplication and addition operations, the input data needs to be number(s).\n",
    "\n",
    "We can turn each character into a number or each word into a number.  These are called character and word ids, respectively.  Character ids are used for character level models that generate text predictions for each character.  A word level model uses word ids that generate text predictions for each word.  Word level models tend to learn better, since they are lower in complexity, so we'll use those.\n",
    "\n",
    "Turn each sentence into a sequence of words ids using Keras's [`Tokenizer`](https://keras.io/preprocessing/text/#tokenizer) function. Use this function to tokenize `english_sentences` and `french_sentences` in the cell below.\n",
    "\n",
    "Running the cell will run `tokenize` on sample data and show output for debugging."
   ]
  },
  {
   "cell_type": "code",
   "execution_count": 9,
   "metadata": {},
   "outputs": [
    {
     "name": "stdout",
     "output_type": "stream",
     "text": [
      "{'the': 1, 'quick': 2, 'a': 3, 'brown': 4, 'fox': 5, 'jumps': 6, 'over': 7, 'lazy': 8, 'dog': 9, 'by': 10, 'jove': 11, 'my': 12, 'study': 13, 'of': 14, 'lexicography': 15, 'won': 16, 'prize': 17, 'this': 18, 'is': 19, 'short': 20, 'sentence': 21}\n",
      "\n",
      "Sequence 1 in x\n",
      "  Input:  The quick brown fox jumps over the lazy dog .\n",
      "  Output: [1, 2, 4, 5, 6, 7, 1, 8, 9]\n",
      "Sequence 2 in x\n",
      "  Input:  By Jove , my quick study of lexicography won a prize .\n",
      "  Output: [10, 11, 12, 2, 13, 14, 15, 16, 3, 17]\n",
      "Sequence 3 in x\n",
      "  Input:  This is a short sentence .\n",
      "  Output: [18, 19, 3, 20, 21]\n"
     ]
    }
   ],
   "source": [
    "def tokenize(x):\n",
    "    \"\"\"\n",
    "    Tokenize x\n",
    "    :param x: List of sentences/strings to be tokenized\n",
    "    :return: Tuple of (tokenized x data, tokenizer used to tokenize x)\n",
    "    \"\"\"\n",
    "    # TODO: Implement\n",
    "    x_tk = Tokenizer(char_level = False)\n",
    "    x_tk.fit_on_texts(x)\n",
    "    return x_tk.texts_to_sequences(x), x_tk\n",
    "\n",
    "# Tokenize Example output\n",
    "text_sentences = [\n",
    "    'The quick brown fox jumps over the lazy dog .',\n",
    "    'By Jove , my quick study of lexicography won a prize .',\n",
    "    'This is a short sentence .']\n",
    "text_tokenized, text_tokenizer = tokenize(text_sentences)\n",
    "print(text_tokenizer.word_index)\n",
    "print()\n",
    "for sample_i, (sent, token_sent) in enumerate(zip(text_sentences, text_tokenized)):\n",
    "    print('Sequence {} in x'.format(sample_i + 1))\n",
    "    print('  Input:  {}'.format(sent))\n",
    "    print('  Output: {}'.format(token_sent))"
   ]
  },
  {
   "cell_type": "markdown",
   "metadata": {},
   "source": [
    "### Padding (IMPLEMENTATION)\n",
    "When batching the sequence of word ids together, each sequence needs to be the same length.  Since sentences are dynamic in length, we can add padding to the end of the sequences to make them the same length.\n",
    "\n",
    "Make sure all the English sequences have the same length and all the French sequences have the same length by adding padding to the **end** of each sequence using Keras's [`pad_sequences`](https://keras.io/preprocessing/sequence/#pad_sequences) function."
   ]
  },
  {
   "cell_type": "code",
   "execution_count": 10,
   "metadata": {},
   "outputs": [
    {
     "name": "stdout",
     "output_type": "stream",
     "text": [
      "Sequence 1 in x\n",
      "  Input:  [1 2 4 5 6 7 1 8 9]\n",
      "  Output: [1 2 4 5 6 7 1 8 9 0]\n",
      "Sequence 2 in x\n",
      "  Input:  [10 11 12  2 13 14 15 16  3 17]\n",
      "  Output: [10 11 12  2 13 14 15 16  3 17]\n",
      "Sequence 3 in x\n",
      "  Input:  [18 19  3 20 21]\n",
      "  Output: [18 19  3 20 21  0  0  0  0  0]\n"
     ]
    }
   ],
   "source": [
    "def pad(x, length=None):\n",
    "    \"\"\"\n",
    "    Pad x\n",
    "    :param x: List of sequences.\n",
    "    :param length: Length to pad the sequence to.  If None, use length of longest sequence in x.\n",
    "    :return: Padded numpy array of sequences\n",
    "    \"\"\"\n",
    "    # TODO: Implement\n",
    "    if length is None:\n",
    "        length = max([len(sentence) for sentence in x])\n",
    "    return pad_sequences(x, maxlen = length, padding = 'post')\n",
    "\n",
    "tests.test_pad(pad)\n",
    "\n",
    "# Pad Tokenized output\n",
    "test_pad = pad(text_tokenized)\n",
    "for sample_i, (token_sent, pad_sent) in enumerate(zip(text_tokenized, test_pad)):\n",
    "    print('Sequence {} in x'.format(sample_i + 1))\n",
    "    print('  Input:  {}'.format(np.array(token_sent)))\n",
    "    print('  Output: {}'.format(pad_sent))"
   ]
  },
  {
   "cell_type": "markdown",
   "metadata": {},
   "source": [
    "### Preprocess Pipeline\n",
    "Your focus for this project is to build neural network architecture, so we won't ask you to create a preprocess pipeline.  Instead, we've provided you with the implementation of the `preprocess` function."
   ]
  },
  {
   "cell_type": "code",
   "execution_count": 11,
   "metadata": {},
   "outputs": [
    {
     "name": "stdout",
     "output_type": "stream",
     "text": [
      "Data Preprocessed\n",
      "Max English sentence length: 15\n",
      "Max French sentence length: 21\n",
      "English vocabulary size: 199\n",
      "French vocabulary size: 344\n"
     ]
    }
   ],
   "source": [
    "def preprocess(x, y):\n",
    "    \"\"\"\n",
    "    Preprocess x and y\n",
    "    :param x: Feature List of sentences\n",
    "    :param y: Label List of sentences\n",
    "    :return: Tuple of (Preprocessed x, Preprocessed y, x tokenizer, y tokenizer)\n",
    "    \"\"\"\n",
    "    preprocess_x, x_tk = tokenize(x)\n",
    "    preprocess_y, y_tk = tokenize(y)\n",
    "\n",
    "    preprocess_x = pad(preprocess_x)\n",
    "    preprocess_y = pad(preprocess_y)\n",
    "\n",
    "    # Keras's sparse_categorical_crossentropy function requires the labels to be in 3 dimensions\n",
    "    preprocess_y = preprocess_y.reshape(*preprocess_y.shape, 1)\n",
    "\n",
    "    return preprocess_x, preprocess_y, x_tk, y_tk\n",
    "\n",
    "preproc_english_sentences, preproc_french_sentences, english_tokenizer, french_tokenizer =\\\n",
    "    preprocess(english_sentences, french_sentences)\n",
    "    \n",
    "max_english_sequence_length = preproc_english_sentences.shape[1]\n",
    "max_french_sequence_length = preproc_french_sentences.shape[1]\n",
    "english_vocab_size = len(english_tokenizer.word_index)\n",
    "french_vocab_size = len(french_tokenizer.word_index)\n",
    "\n",
    "print('Data Preprocessed')\n",
    "print(\"Max English sentence length:\", max_english_sequence_length)\n",
    "print(\"Max French sentence length:\", max_french_sequence_length)\n",
    "print(\"English vocabulary size:\", english_vocab_size)\n",
    "print(\"French vocabulary size:\", french_vocab_size)"
   ]
  },
  {
   "cell_type": "markdown",
   "metadata": {},
   "source": [
    "## Models\n",
    "In this section, you will experiment with various neural network architectures.\n",
    "You will begin by training four relatively simple architectures.\n",
    "- Model 1 is a simple RNN\n",
    "- Model 2 is a RNN with Embedding\n",
    "- Model 3 is a Bidirectional RNN\n",
    "- Model 4 is an optional Encoder-Decoder RNN\n",
    "\n",
    "After experimenting with the four simple architectures, you will construct a deeper architecture that is designed to outperform all four models.\n",
    "### Ids Back to Text\n",
    "The neural network will be translating the input to words ids, which isn't the final form we want.  We want the French translation.  The function `logits_to_text` will bridge the gab between the logits from the neural network to the French translation.  You'll be using this function to better understand the output of the neural network."
   ]
  },
  {
   "cell_type": "code",
   "execution_count": 12,
   "metadata": {},
   "outputs": [
    {
     "name": "stdout",
     "output_type": "stream",
     "text": [
      "`logits_to_text` function loaded.\n"
     ]
    }
   ],
   "source": [
    "def logits_to_text(logits, tokenizer):\n",
    "    \"\"\"\n",
    "    Turn logits from a neural network into text using the tokenizer\n",
    "    :param logits: Logits from a neural network\n",
    "    :param tokenizer: Keras Tokenizer fit on the labels\n",
    "    :return: String that represents the text of the logits\n",
    "    \"\"\"\n",
    "    index_to_words = {id: word for word, id in tokenizer.word_index.items()}\n",
    "    index_to_words[0] = '<PAD>'\n",
    "\n",
    "    return ' '.join([index_to_words[prediction] for prediction in np.argmax(logits, 1)])\n",
    "\n",
    "print('`logits_to_text` function loaded.')"
   ]
  },
  {
   "cell_type": "markdown",
   "metadata": {},
   "source": [
    "### Model 1: RNN (IMPLEMENTATION)\n",
    "![RNN](images/rnn.png)\n",
    "A basic RNN model is a good baseline for sequence data.  In this model, you'll build a RNN that translates English to French."
   ]
  },
  {
   "cell_type": "code",
   "execution_count": 13,
   "metadata": {},
   "outputs": [
    {
     "name": "stdout",
     "output_type": "stream",
     "text": [
      "Train on 110288 samples, validate on 27573 samples\n",
      "Epoch 1/10\n",
      "110288/110288 [==============================] - 9s 83us/step - loss: 3.5225 - acc: 0.4334 - val_loss: nan - val_acc: 0.4718\n",
      "Epoch 2/10\n",
      "110288/110288 [==============================] - 7s 64us/step - loss: 2.4487 - acc: 0.4765 - val_loss: nan - val_acc: 0.4951\n",
      "Epoch 3/10\n",
      "110288/110288 [==============================] - 7s 64us/step - loss: 2.2113 - acc: 0.5091 - val_loss: nan - val_acc: 0.5296\n",
      "Epoch 4/10\n",
      "110288/110288 [==============================] - 7s 65us/step - loss: 1.9759 - acc: 0.5529 - val_loss: nan - val_acc: 0.5689\n",
      "Epoch 5/10\n",
      "110288/110288 [==============================] - 7s 65us/step - loss: 1.7976 - acc: 0.5750 - val_loss: nan - val_acc: 0.5789\n",
      "Epoch 6/10\n",
      "110288/110288 [==============================] - 7s 64us/step - loss: 1.6967 - acc: 0.5842 - val_loss: nan - val_acc: 0.5879\n",
      "Epoch 7/10\n",
      "110288/110288 [==============================] - 7s 64us/step - loss: 1.6281 - acc: 0.5904 - val_loss: nan - val_acc: 0.5928\n",
      "Epoch 8/10\n",
      "110288/110288 [==============================] - 7s 64us/step - loss: 1.5735 - acc: 0.5962 - val_loss: nan - val_acc: 0.6023\n",
      "Epoch 9/10\n",
      "110288/110288 [==============================] - 7s 64us/step - loss: 1.5259 - acc: 0.6056 - val_loss: nan - val_acc: 0.6098\n",
      "Epoch 10/10\n",
      "110288/110288 [==============================] - 7s 64us/step - loss: 1.4837 - acc: 0.6132 - val_loss: nan - val_acc: 0.6168\n",
      "new jersey est parfois parfois en en mais il est est en en <PAD> <PAD> <PAD> <PAD> <PAD> <PAD> <PAD> <PAD>\n"
     ]
    }
   ],
   "source": [
    "def simple_model(input_shape, output_sequence_length, english_vocab_size, french_vocab_size):\n",
    "    \"\"\"\n",
    "    Build and train a basic RNN on x and y\n",
    "    :param input_shape: Tuple of input shape\n",
    "    :param output_sequence_length: Length of output sequence\n",
    "    :param english_vocab_size: Number of unique English words in the dataset\n",
    "    :param french_vocab_size: Number of unique French words in the dataset\n",
    "    :return: Keras model built, but not trained\n",
    "    \"\"\"\n",
    "    # TODO: Build the layers\n",
    "    learning_rate = 1e-3\n",
    "    input_seq = Input(input_shape[1:])\n",
    "    rnn = GRU(64, return_sequences = True)(input_seq)\n",
    "    logits = TimeDistributed(Dense(french_vocab_size))(rnn)\n",
    "    model = Model(input_seq, Activation('softmax')(logits))\n",
    "    model.compile(loss = sparse_categorical_crossentropy, \n",
    "                 optimizer = Adam(learning_rate), \n",
    "                 metrics = ['accuracy'])\n",
    "    \n",
    "    return model\n",
    "tests.test_simple_model(simple_model)\n",
    "\n",
    "# Reshaping the input to work with a basic RNN\n",
    "tmp_x = pad(preproc_english_sentences, max_french_sequence_length)\n",
    "tmp_x = tmp_x.reshape((-1, preproc_french_sentences.shape[-2], 1))\n",
    "\n",
    "# Train the neural network\n",
    "simple_rnn_model = simple_model(\n",
    "    tmp_x.shape,\n",
    "    max_french_sequence_length,\n",
    "    english_vocab_size,\n",
    "    french_vocab_size)\n",
    "simple_rnn_model.fit(tmp_x, preproc_french_sentences, batch_size=1024, epochs=10, validation_split=0.2)\n",
    "\n",
    "# Print prediction(s)\n",
    "print(logits_to_text(simple_rnn_model.predict(tmp_x[:1])[0], french_tokenizer))"
   ]
  },
  {
   "cell_type": "markdown",
   "metadata": {},
   "source": [
    "### Model 2: Embedding (IMPLEMENTATION)\n",
    "![RNN](images/embedding.png)\n",
    "You've turned the words into ids, but there's a better representation of a word.  This is called word embeddings.  An embedding is a vector representation of the word that is close to similar words in n-dimensional space, where the n represents the size of the embedding vectors.\n",
    "\n",
    "In this model, you'll create a RNN model using embedding."
   ]
  },
  {
   "cell_type": "code",
   "execution_count": 21,
   "metadata": {},
   "outputs": [
    {
     "name": "stdout",
     "output_type": "stream",
     "text": [
      "Train on 110288 samples, validate on 27573 samples\n",
      "Epoch 1/10\n",
      "110288/110288 [==============================] - 8s 71us/step - loss: 3.7903 - acc: 0.3985 - val_loss: nan - val_acc: 0.4093\n",
      "Epoch 2/10\n",
      "110288/110288 [==============================] - 7s 66us/step - loss: 2.6855 - acc: 0.4401 - val_loss: nan - val_acc: 0.5099\n",
      "Epoch 3/10\n",
      "110288/110288 [==============================] - 7s 66us/step - loss: 2.0004 - acc: 0.5594 - val_loss: nan - val_acc: 0.6041\n",
      "Epoch 4/10\n",
      "110288/110288 [==============================] - 7s 66us/step - loss: 1.4473 - acc: 0.6529 - val_loss: nan - val_acc: 0.6995\n",
      "Epoch 5/10\n",
      "110288/110288 [==============================] - 7s 66us/step - loss: 1.1354 - acc: 0.7279 - val_loss: nan - val_acc: 0.7510\n",
      "Epoch 6/10\n",
      "110288/110288 [==============================] - 7s 66us/step - loss: 0.9449 - acc: 0.7663 - val_loss: nan - val_acc: 0.7782\n",
      "Epoch 7/10\n",
      "110288/110288 [==============================] - 7s 65us/step - loss: 0.8182 - acc: 0.7871 - val_loss: nan - val_acc: 0.7966\n",
      "Epoch 8/10\n",
      "110288/110288 [==============================] - 7s 66us/step - loss: 0.7248 - acc: 0.8058 - val_loss: nan - val_acc: 0.8145\n",
      "Epoch 9/10\n",
      "110288/110288 [==============================] - 7s 65us/step - loss: 0.6527 - acc: 0.8210 - val_loss: nan - val_acc: 0.8276\n",
      "Epoch 10/10\n",
      "110288/110288 [==============================] - 7s 66us/step - loss: 0.5949 - acc: 0.8340 - val_loss: nan - val_acc: 0.8404\n",
      "new jersey est parfois calme en l' et il est neigeux neigeux en avril <PAD> <PAD> <PAD> <PAD> <PAD> <PAD> <PAD>\n"
     ]
    }
   ],
   "source": [
    "from keras.models import Sequential\n",
    "def embed_model(input_shape, output_sequence_length, english_vocab_size, french_vocab_size):\n",
    "    \"\"\"\n",
    "    Build and train a RNN model using word embedding on x and y\n",
    "    :param input_shape: Tuple of input shape\n",
    "    :param output_sequence_length: Length of output sequence\n",
    "    :param english_vocab_size: Number of unique English words in the dataset\n",
    "    :param french_vocab_size: Number of unique French words in the dataset\n",
    "    :return: Keras model built, but not trained\n",
    "    \"\"\"\n",
    "    # TODO: Implement\n",
    "    learning_rate = 1e-3\n",
    "    rnn = GRU(64, return_sequences=True, activation=\"tanh\")\n",
    "    \n",
    "    embedding = Embedding(french_vocab_size, 64, input_length=input_shape[1]) \n",
    "    logits = TimeDistributed(Dense(french_vocab_size, activation=\"softmax\"))\n",
    "    \n",
    "    model = Sequential()\n",
    "    #em can only be used in first layer --> Keras Documentation\n",
    "    model.add(embedding)\n",
    "    model.add(rnn)\n",
    "    model.add(logits)\n",
    "    model.compile(loss=sparse_categorical_crossentropy,\n",
    "                  optimizer=Adam(learning_rate),\n",
    "                  metrics=['accuracy'])\n",
    "    \n",
    "    return model\n",
    "tests.test_embed_model(embed_model)\n",
    "\n",
    "\n",
    "# TODO: Reshape the input\n",
    "tmp_x = pad(preproc_english_sentences, max_french_sequence_length)\n",
    "tmp_x = tmp_x.reshape((-1, preproc_french_sentences.shape[-2]))\n",
    "\n",
    "# TODO: Train the neural network\n",
    "\n",
    "embeded_model = embed_model(\n",
    "    tmp_x.shape,\n",
    "    max_french_sequence_length,\n",
    "    english_vocab_size,\n",
    "    french_vocab_size)\n",
    "\n",
    "embeded_model.fit(tmp_x, preproc_french_sentences, batch_size=1024, epochs=10, validation_split=0.2)\n",
    "\n",
    "\n",
    "# TODO: Print prediction(s)\n",
    "print(logits_to_text(embeded_model.predict(tmp_x[:1])[0], french_tokenizer))"
   ]
  },
  {
   "cell_type": "markdown",
   "metadata": {},
   "source": [
    "### Model 3: Bidirectional RNNs (IMPLEMENTATION)\n",
    "![RNN](images/bidirectional.png)\n",
    "One restriction of a RNN is that it can't see the future input, only the past.  This is where bidirectional recurrent neural networks come in.  They are able to see the future data."
   ]
  },
  {
   "cell_type": "code",
   "execution_count": 22,
   "metadata": {},
   "outputs": [
    {
     "name": "stdout",
     "output_type": "stream",
     "text": [
      "Train on 110288 samples, validate on 27573 samples\n",
      "Epoch 1/20\n",
      "110288/110288 [==============================] - 13s 114us/step - loss: 2.7182 - acc: 0.4955 - val_loss: 1.7865 - val_acc: 0.5792\n",
      "Epoch 2/20\n",
      "110288/110288 [==============================] - 12s 107us/step - loss: 1.6636 - acc: 0.5865 - val_loss: 1.4844 - val_acc: 0.6108\n",
      "Epoch 3/20\n",
      "110288/110288 [==============================] - 12s 106us/step - loss: 1.4578 - acc: 0.6108 - val_loss: 1.3624 - val_acc: 0.6223\n",
      "Epoch 4/20\n",
      "110288/110288 [==============================] - 12s 106us/step - loss: 1.3457 - acc: 0.6297 - val_loss: 1.2903 - val_acc: 0.6315\n",
      "Epoch 5/20\n",
      "110288/110288 [==============================] - 12s 106us/step - loss: 1.2718 - acc: 0.6439 - val_loss: 1.2547 - val_acc: 0.6341\n",
      "Epoch 6/20\n",
      "110288/110288 [==============================] - 12s 106us/step - loss: 1.2160 - acc: 0.6546 - val_loss: 1.2260 - val_acc: 0.6369\n",
      "Epoch 7/20\n",
      "110288/110288 [==============================] - 12s 106us/step - loss: 1.1681 - acc: 0.6640 - val_loss: 1.2143 - val_acc: 0.6368\n",
      "Epoch 8/20\n",
      "110288/110288 [==============================] - 12s 106us/step - loss: 1.1305 - acc: 0.6701 - val_loss: 1.2336 - val_acc: 0.6313\n",
      "Epoch 9/20\n",
      "110288/110288 [==============================] - 12s 106us/step - loss: 1.0983 - acc: 0.6751 - val_loss: 1.2561 - val_acc: 0.6287\n",
      "Epoch 10/20\n",
      "110288/110288 [==============================] - 12s 106us/step - loss: 1.0720 - acc: 0.6787 - val_loss: 1.2518 - val_acc: 0.6295\n",
      "Epoch 11/20\n",
      "110288/110288 [==============================] - 12s 106us/step - loss: 1.0487 - acc: 0.6822 - val_loss: 1.2708 - val_acc: 0.6300\n",
      "Epoch 12/20\n",
      "110288/110288 [==============================] - 12s 106us/step - loss: 1.0268 - acc: 0.6857 - val_loss: 1.3031 - val_acc: 0.6257\n",
      "Epoch 13/20\n",
      "110288/110288 [==============================] - 12s 106us/step - loss: 1.0085 - acc: 0.6889 - val_loss: 1.3301 - val_acc: 0.6227\n",
      "Epoch 14/20\n",
      "110288/110288 [==============================] - 12s 106us/step - loss: 0.9921 - acc: 0.6916 - val_loss: 1.3716 - val_acc: 0.6197\n",
      "Epoch 15/20\n",
      "110288/110288 [==============================] - 12s 106us/step - loss: 0.9757 - acc: 0.6946 - val_loss: 1.3979 - val_acc: 0.6165\n",
      "Epoch 16/20\n",
      "110288/110288 [==============================] - 12s 106us/step - loss: 0.9623 - acc: 0.6967 - val_loss: 1.4232 - val_acc: 0.6136\n",
      "Epoch 17/20\n",
      "110288/110288 [==============================] - 12s 106us/step - loss: 0.9482 - acc: 0.6999 - val_loss: 1.4599 - val_acc: 0.6090\n",
      "Epoch 18/20\n",
      "110288/110288 [==============================] - 12s 107us/step - loss: 0.9354 - acc: 0.7019 - val_loss: 1.4961 - val_acc: 0.6043\n",
      "Epoch 19/20\n",
      "110288/110288 [==============================] - 12s 107us/step - loss: 0.9236 - acc: 0.7043 - val_loss: 1.5248 - val_acc: 0.6012\n",
      "Epoch 20/20\n",
      "110288/110288 [==============================] - 12s 106us/step - loss: 0.9125 - acc: 0.7063 - val_loss: 1.5488 - val_acc: 0.5969\n",
      "new jersey est parfois froid au printemps mais il est agréable en en <PAD> <PAD> <PAD> <PAD> <PAD> <PAD> <PAD> <PAD>\n"
     ]
    }
   ],
   "source": [
    "def bd_model(input_shape, output_sequence_length, english_vocab_size, french_vocab_size):\n",
    "    \"\"\"\n",
    "    Build and train a bidirectional RNN model on x and y\n",
    "    :param input_shape: Tuple of input shape\n",
    "    :param output_sequence_length: Length of output sequence\n",
    "    :param english_vocab_size: Number of unique English words in the dataset\n",
    "    :param french_vocab_size: Number of unique French words in the dataset\n",
    "    :return: Keras model built, but not trained\n",
    "    \"\"\"\n",
    "    # TODO: Implement\n",
    "    learning_rate = 1e-3\n",
    "    model = Sequential()\n",
    "    model.add(Bidirectional(GRU(128, return_sequences = True, dropout = 0.1), \n",
    "                           input_shape = input_shape[1:]))\n",
    "    model.add(TimeDistributed(Dense(french_vocab_size, activation = 'softmax')))\n",
    "    model.compile(loss = sparse_categorical_crossentropy, \n",
    "                 optimizer = Adam(learning_rate), \n",
    "                 metrics = ['accuracy'])\n",
    "    return model\n",
    "tests.test_bd_model(bd_model)\n",
    "\n",
    "\n",
    "# TODO: Train and Print prediction(s)\n",
    "tmp_x = pad(preproc_english_sentences, preproc_french_sentences.shape[1])\n",
    "tmp_x = tmp_x.reshape((-1, preproc_french_sentences.shape[-2], 1))\n",
    "\n",
    "bidi_model = bd_model(\n",
    "    tmp_x.shape,\n",
    "    preproc_french_sentences.shape[1],\n",
    "    len(english_tokenizer.word_index)+1,\n",
    "    len(french_tokenizer.word_index)+1)\n",
    "\n",
    "\n",
    "bidi_model.fit(tmp_x, preproc_french_sentences, batch_size=1024, epochs=20, validation_split=0.2)\n",
    "\n",
    "# Print prediction(s)\n",
    "print(logits_to_text(bidi_model.predict(tmp_x[:1])[0], french_tokenizer))"
   ]
  },
  {
   "cell_type": "markdown",
   "metadata": {},
   "source": [
    "### Model 4: Encoder-Decoder (OPTIONAL)\n",
    "Time to look at encoder-decoder models.  This model is made up of an encoder and decoder. The encoder creates a matrix representation of the sentence.  The decoder takes this matrix as input and predicts the translation as output.\n",
    "\n",
    "Create an encoder-decoder model in the cell below."
   ]
  },
  {
   "cell_type": "code",
   "execution_count": 24,
   "metadata": {},
   "outputs": [
    {
     "name": "stdout",
     "output_type": "stream",
     "text": [
      "Train on 110288 samples, validate on 27573 samples\n",
      "Epoch 1/20\n",
      "110288/110288 [==============================] - 12s 110us/step - loss: 3.0060 - acc: 0.4399 - val_loss: 2.4116 - val_acc: 0.4976\n",
      "Epoch 2/20\n",
      "110288/110288 [==============================] - 11s 101us/step - loss: 2.2746 - acc: 0.5021 - val_loss: 2.1364 - val_acc: 0.5111\n",
      "Epoch 3/20\n",
      "110288/110288 [==============================] - 11s 101us/step - loss: 2.0021 - acc: 0.5183 - val_loss: 1.8982 - val_acc: 0.5419\n",
      "Epoch 4/20\n",
      "110288/110288 [==============================] - 11s 101us/step - loss: 1.8196 - acc: 0.5553 - val_loss: 1.7510 - val_acc: 0.5590\n",
      "Epoch 5/20\n",
      "110288/110288 [==============================] - 11s 101us/step - loss: 1.6868 - acc: 0.5705 - val_loss: 1.6302 - val_acc: 0.5764\n",
      "Epoch 6/20\n",
      "110288/110288 [==============================] - 11s 101us/step - loss: 1.5943 - acc: 0.5818 - val_loss: 1.5549 - val_acc: 0.5894\n",
      "Epoch 7/20\n",
      "110288/110288 [==============================] - 11s 101us/step - loss: 1.5232 - acc: 0.5920 - val_loss: 1.4880 - val_acc: 0.5952\n",
      "Epoch 8/20\n",
      "110288/110288 [==============================] - 11s 101us/step - loss: 1.4627 - acc: 0.6008 - val_loss: 1.4409 - val_acc: 0.6074\n",
      "Epoch 9/20\n",
      "110288/110288 [==============================] - 11s 101us/step - loss: 1.4118 - acc: 0.6141 - val_loss: 1.3900 - val_acc: 0.6176\n",
      "Epoch 10/20\n",
      "110288/110288 [==============================] - 11s 101us/step - loss: 1.3735 - acc: 0.6228 - val_loss: 1.3550 - val_acc: 0.6254\n",
      "Epoch 11/20\n",
      "110288/110288 [==============================] - 11s 101us/step - loss: 1.3447 - acc: 0.6300 - val_loss: 1.3293 - val_acc: 0.6333\n",
      "Epoch 12/20\n",
      "110288/110288 [==============================] - 11s 101us/step - loss: 1.3236 - acc: 0.6320 - val_loss: 1.3108 - val_acc: 0.6342\n",
      "Epoch 13/20\n",
      "110288/110288 [==============================] - 11s 101us/step - loss: 1.3022 - acc: 0.6345 - val_loss: 1.2897 - val_acc: 0.6361\n",
      "Epoch 14/20\n",
      "110288/110288 [==============================] - 11s 101us/step - loss: 1.2848 - acc: 0.6363 - val_loss: 1.2747 - val_acc: 0.6377\n",
      "Epoch 15/20\n",
      "110288/110288 [==============================] - 11s 101us/step - loss: 1.2683 - acc: 0.6388 - val_loss: 1.2558 - val_acc: 0.6407\n",
      "Epoch 16/20\n",
      "110288/110288 [==============================] - 11s 101us/step - loss: 1.2580 - acc: 0.6401 - val_loss: 1.2437 - val_acc: 0.6452\n",
      "Epoch 17/20\n",
      "110288/110288 [==============================] - 11s 101us/step - loss: 1.2535 - acc: 0.6406 - val_loss: 1.2364 - val_acc: 0.6423\n",
      "Epoch 18/20\n",
      "110288/110288 [==============================] - 11s 101us/step - loss: 1.2314 - acc: 0.6449 - val_loss: 1.2042 - val_acc: 0.6534\n",
      "Epoch 19/20\n",
      "110288/110288 [==============================] - 11s 101us/step - loss: 1.2148 - acc: 0.6479 - val_loss: 1.2243 - val_acc: 0.6440\n",
      "Epoch 20/20\n",
      "110288/110288 [==============================] - 11s 101us/step - loss: 1.1976 - acc: 0.6495 - val_loss: 1.1791 - val_acc: 0.6566\n",
      "new jersey est parfois agréable en mois et il est est en en <PAD> <PAD> <PAD> <PAD> <PAD> <PAD> <PAD> <PAD>\n"
     ]
    }
   ],
   "source": [
    "def encdec_model(input_shape, output_sequence_length, english_vocab_size, french_vocab_size):\n",
    "    \"\"\"\n",
    "    Build and train an encoder-decoder model on x and y\n",
    "    :param input_shape: Tuple of input shape\n",
    "    :param output_sequence_length: Length of output sequence\n",
    "    :param english_vocab_size: Number of unique English words in the dataset\n",
    "    :param french_vocab_size: Number of unique French words in the dataset\n",
    "    :return: Keras model built, but not trained\n",
    "    \"\"\"\n",
    "    # OPTIONAL: Implement\n",
    "    learning_rate = 1e-3\n",
    "    model = Sequential()\n",
    "    model.add(GRU(128, input_shape = input_shape[1:], return_sequences = False))\n",
    "    model.add(RepeatVector(output_sequence_length))\n",
    "    model.add(GRU(128, return_sequences = True))\n",
    "    model.add(TimeDistributed(Dense(french_vocab_size, activation = 'softmax')))\n",
    "    \n",
    "    model.compile(loss = sparse_categorical_crossentropy, \n",
    "                 optimizer = Adam(learning_rate), \n",
    "                 metrics = ['accuracy'])\n",
    "    return model\n",
    "tests.test_encdec_model(encdec_model)\n",
    "\n",
    "\n",
    "# OPTIONAL: Train and Print prediction(s)\n",
    "tmp_x = pad(preproc_english_sentences)\n",
    "tmp_x = tmp_x.reshape((-1, preproc_english_sentences.shape[1], 1))\n",
    "\n",
    "encodeco_model = encdec_model(\n",
    "    tmp_x.shape,\n",
    "    preproc_french_sentences.shape[1],\n",
    "    len(english_tokenizer.word_index)+1,\n",
    "    len(french_tokenizer.word_index)+1)\n",
    "\n",
    "encodeco_model.fit(tmp_x, preproc_french_sentences, batch_size=1024, epochs=20, validation_split=0.2)\n",
    "\n",
    "print(logits_to_text(encodeco_model.predict(tmp_x[:1])[0], french_tokenizer))"
   ]
  },
  {
   "cell_type": "markdown",
   "metadata": {},
   "source": [
    "### Model 5: Custom (IMPLEMENTATION)\n",
    "Use everything you learned from the previous models to create a model that incorporates embedding and a bidirectional rnn into one model."
   ]
  },
  {
   "cell_type": "code",
   "execution_count": 25,
   "metadata": {},
   "outputs": [
    {
     "name": "stdout",
     "output_type": "stream",
     "text": [
      "Final Model Loaded\n"
     ]
    }
   ],
   "source": [
    "def model_final(input_shape, output_sequence_length, english_vocab_size, french_vocab_size):\n",
    "    \"\"\"\n",
    "    Build and train a model that incorporates embedding, encoder-decoder, and bidirectional RNN on x and y\n",
    "    :param input_shape: Tuple of input shape\n",
    "    :param output_sequence_length: Length of output sequence\n",
    "    :param english_vocab_size: Number of unique English words in the dataset\n",
    "    :param french_vocab_size: Number of unique French words in the dataset\n",
    "    :return: Keras model built, but not trained\n",
    "    \"\"\"\n",
    "    # TODO: Implement\n",
    "    learning_rate = 1e-3\n",
    "    vocab_size = max(english_vocab_size, french_vocab_size)\n",
    "    model = Sequential()\n",
    "    model.add(Embedding(vocab_size, 128, input_length = input_shape[1]))\n",
    "    model.add(Bidirectional(GRU(128, return_sequences = False)))\n",
    "    model.add(RepeatVector(output_sequence_length))\n",
    "    model.add(Bidirectional(GRU(128, return_sequences = True)))\n",
    "    model.add(TimeDistributed(Dense(french_vocab_size, activation = 'softmax')))\n",
    "    \n",
    "    model.compile(loss = sparse_categorical_crossentropy, \n",
    "                 optimizer = Adam(learning_rate), \n",
    "                 metrics = ['accuracy'])\n",
    "    \n",
    "    return model\n",
    "tests.test_model_final(model_final)\n",
    "\n",
    "\n",
    "print('Final Model Loaded')\n",
    "# TODO: Train the final model"
   ]
  },
  {
   "cell_type": "markdown",
   "metadata": {},
   "source": [
    "## Prediction (IMPLEMENTATION)"
   ]
  },
  {
   "cell_type": "code",
   "execution_count": 26,
   "metadata": {},
   "outputs": [
    {
     "name": "stdout",
     "output_type": "stream",
     "text": [
      "Train on 110288 samples, validate on 27573 samples\n",
      "Epoch 1/20\n",
      "110288/110288 [==============================] - 25s 224us/step - loss: 2.9686 - acc: 0.4405 - val_loss: 2.0884 - val_acc: 0.4940\n",
      "Epoch 2/20\n",
      "110288/110288 [==============================] - 23s 210us/step - loss: 1.8934 - acc: 0.5307 - val_loss: 1.6790 - val_acc: 0.5734\n",
      "Epoch 3/20\n",
      "110288/110288 [==============================] - 23s 211us/step - loss: 1.5200 - acc: 0.6048 - val_loss: 1.3776 - val_acc: 0.6306\n",
      "Epoch 4/20\n",
      "110288/110288 [==============================] - 23s 211us/step - loss: 1.2930 - acc: 0.6504 - val_loss: 1.1991 - val_acc: 0.6748\n",
      "Epoch 5/20\n",
      "110288/110288 [==============================] - 23s 210us/step - loss: 1.1343 - acc: 0.6888 - val_loss: 1.0692 - val_acc: 0.7015\n",
      "Epoch 6/20\n",
      "110288/110288 [==============================] - 23s 211us/step - loss: 1.0251 - acc: 0.7120 - val_loss: 0.9704 - val_acc: 0.7250\n",
      "Epoch 7/20\n",
      "110288/110288 [==============================] - 23s 210us/step - loss: 0.9304 - acc: 0.7327 - val_loss: 0.9036 - val_acc: 0.7377\n",
      "Epoch 8/20\n",
      "110288/110288 [==============================] - 23s 210us/step - loss: 0.8626 - acc: 0.7485 - val_loss: 0.8267 - val_acc: 0.7581\n",
      "Epoch 9/20\n",
      "110288/110288 [==============================] - 23s 210us/step - loss: 0.8051 - acc: 0.7631 - val_loss: 0.7684 - val_acc: 0.7751\n",
      "Epoch 10/20\n",
      "110288/110288 [==============================] - 23s 210us/step - loss: 0.7464 - acc: 0.7800 - val_loss: 0.7224 - val_acc: 0.7863\n",
      "Epoch 11/20\n",
      "110288/110288 [==============================] - 23s 210us/step - loss: 0.6972 - acc: 0.7938 - val_loss: 0.6769 - val_acc: 0.8015\n",
      "Epoch 12/20\n",
      "110288/110288 [==============================] - 23s 210us/step - loss: 0.6522 - acc: 0.8073 - val_loss: 0.6332 - val_acc: 0.8144\n",
      "Epoch 13/20\n",
      "110288/110288 [==============================] - 23s 210us/step - loss: 0.6171 - acc: 0.8176 - val_loss: 0.6021 - val_acc: 0.8224\n",
      "Epoch 14/20\n",
      "110288/110288 [==============================] - 23s 211us/step - loss: 0.5773 - acc: 0.8292 - val_loss: 0.5600 - val_acc: 0.8358\n",
      "Epoch 15/20\n",
      "110288/110288 [==============================] - 23s 211us/step - loss: 0.5395 - acc: 0.8407 - val_loss: 0.5221 - val_acc: 0.8475\n",
      "Epoch 16/20\n",
      "110288/110288 [==============================] - 23s 211us/step - loss: 0.4998 - acc: 0.8538 - val_loss: 0.4982 - val_acc: 0.8536\n",
      "Epoch 17/20\n",
      "110288/110288 [==============================] - 23s 211us/step - loss: 0.4641 - acc: 0.8653 - val_loss: 0.4528 - val_acc: 0.8705\n",
      "Epoch 18/20\n",
      "110288/110288 [==============================] - 23s 211us/step - loss: 0.4310 - acc: 0.8761 - val_loss: 0.4151 - val_acc: 0.8817\n",
      "Epoch 19/20\n",
      "110288/110288 [==============================] - 23s 211us/step - loss: 0.3975 - acc: 0.8868 - val_loss: 0.3892 - val_acc: 0.8900\n",
      "Epoch 20/20\n",
      "110288/110288 [==============================] - 23s 211us/step - loss: 0.3663 - acc: 0.8970 - val_loss: 0.3590 - val_acc: 0.8989\n",
      "Sample 1:\n",
      "il a vu un vieux camion jaune <PAD> <PAD> <PAD> <PAD> <PAD> <PAD> <PAD> <PAD> <PAD> <PAD> <PAD> <PAD> <PAD> <PAD>\n",
      "Il a vu un vieux camion jaune\n",
      "Sample 2:\n",
      "new jersey est parfois calme pendant l' automne et il et il est <PAD> <PAD> <PAD> <PAD> <PAD> <PAD> <PAD> <PAD>\n",
      "new jersey est parfois calme pendant l' automne et il est neigeux en avril <PAD> <PAD> <PAD> <PAD> <PAD> <PAD> <PAD>\n"
     ]
    }
   ],
   "source": [
    "def final_predictions(x, y, x_tk, y_tk):\n",
    "    \"\"\"\n",
    "    Gets predictions using the final model\n",
    "    :param x: Preprocessed English data\n",
    "    :param y: Preprocessed French data\n",
    "    :param x_tk: English tokenizer\n",
    "    :param y_tk: French tokenizer\n",
    "    \"\"\"\n",
    "    # TODO: Train neural network using model_final\n",
    "    tmp_X = pad(preproc_english_sentences)\n",
    "    model = model_final(tmp_X.shape,\n",
    "                        preproc_french_sentences.shape[1],\n",
    "                        len(english_tokenizer.word_index)+1,\n",
    "                        len(french_tokenizer.word_index)+1)\n",
    "    \n",
    "    model.fit(tmp_X, preproc_french_sentences, batch_size = 1024, epochs = 20, validation_split = 0.2)\n",
    " \n",
    "    ## DON'T EDIT ANYTHING BELOW THIS LINE\n",
    "    y_id_to_word = {value: key for key, value in y_tk.word_index.items()}\n",
    "    y_id_to_word[0] = '<PAD>'\n",
    "\n",
    "    sentence = 'he saw a old yellow truck'\n",
    "    sentence = [x_tk.word_index[word] for word in sentence.split()]\n",
    "    sentence = pad_sequences([sentence], maxlen=x.shape[-1], padding='post')\n",
    "    sentences = np.array([sentence[0], x[0]])\n",
    "    predictions = model.predict(sentences, len(sentences))\n",
    "\n",
    "    print('Sample 1:')\n",
    "    print(' '.join([y_id_to_word[np.argmax(x)] for x in predictions[0]]))\n",
    "    print('Il a vu un vieux camion jaune')\n",
    "    print('Sample 2:')\n",
    "    print(' '.join([y_id_to_word[np.argmax(x)] for x in predictions[1]]))\n",
    "    print(' '.join([y_id_to_word[np.max(x)] for x in y[0]]))\n",
    "\n",
    "\n",
    "final_predictions(preproc_english_sentences, preproc_french_sentences, english_tokenizer, french_tokenizer)"
   ]
  },
  {
   "cell_type": "markdown",
   "metadata": {},
   "source": [
    "## Submission\n",
    "When you're ready to submit, complete the following steps:\n",
    "1. Review the [rubric](https://review.udacity.com/#!/rubrics/1004/view) to ensure your submission meets all requirements to pass\n",
    "2. Generate an HTML version of this notebook\n",
    "\n",
    "  - Run the next cell to attempt automatic generation (this is the recommended method in Workspaces)\n",
    "  - Navigate to **FILE -> Download as -> HTML (.html)**\n",
    "  - Manually generate a copy using `nbconvert` from your shell terminal\n",
    "```\n",
    "$ pip install nbconvert\n",
    "$ python -m nbconvert machine_translation.ipynb\n",
    "```\n",
    "  \n",
    "3. Submit the project\n",
    "\n",
    "  - If you are in a Workspace, simply click the \"Submit Project\" button (bottom towards the right)\n",
    "  \n",
    "  - Otherwise, add the following files into a zip archive and submit them \n",
    "  - `helper.py`\n",
    "  - `machine_translation.ipynb`\n",
    "  - `machine_translation.html`\n",
    "    - You can export the notebook by navigating to **File -> Download as -> HTML (.html)**."
   ]
  },
  {
   "cell_type": "markdown",
   "metadata": {},
   "source": [
    "### Generate the html\n",
    "\n",
    "**Save your notebook before running the next cell to generate the HTML output.** Then submit your project."
   ]
  },
  {
   "cell_type": "code",
   "execution_count": 2,
   "metadata": {},
   "outputs": [
    {
     "data": {
      "text/plain": [
       "['[NbConvertApp] Converting notebook machine_translation.ipynb to html',\n",
       " '[NbConvertApp] Writing 305996 bytes to machine_translation.html']"
      ]
     },
     "execution_count": 2,
     "metadata": {},
     "output_type": "execute_result"
    }
   ],
   "source": [
    "# Save before you run this cell!\n",
    "!!jupyter nbconvert *.ipynb"
   ]
  },
  {
   "cell_type": "markdown",
   "metadata": {},
   "source": [
    "## Optional Enhancements\n",
    "\n",
    "This project focuses on learning various network architectures for machine translation, but we don't evaluate the models according to best practices by splitting the data into separate test & training sets -- so the model accuracy is overstated. Use the [`sklearn.model_selection.train_test_split()`](http://scikit-learn.org/stable/modules/generated/sklearn.model_selection.train_test_split.html) function to create separate training & test datasets, then retrain each of the models using only the training set and evaluate the prediction accuracy using the hold out test set. Does the \"best\" model change?"
   ]
  }
 ],
 "metadata": {
  "kernelspec": {
   "display_name": "Python 3",
   "language": "python",
   "name": "python3"
  },
  "language_info": {
   "codemirror_mode": {
    "name": "ipython",
    "version": 3
   },
   "file_extension": ".py",
   "mimetype": "text/x-python",
   "name": "python",
   "nbconvert_exporter": "python",
   "pygments_lexer": "ipython3",
   "version": "3.6.3"
  }
 },
 "nbformat": 4,
 "nbformat_minor": 1
}
