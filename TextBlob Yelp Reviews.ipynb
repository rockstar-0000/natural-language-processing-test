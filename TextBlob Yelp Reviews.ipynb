{
 "cells": [
  {
   "cell_type": "code",
   "execution_count": 1,
   "metadata": {},
   "outputs": [],
   "source": [
    "% matplotlib inline\n",
    "from pathlib import Path\n",
    "import numpy as np\n",
    "import pandas as pd\n",
    "from pandas.io.json import json_normalize\n",
    "import pyarrow as pa   \n",
    "import pyarrow.parquet as pq\n",
    "from fastparquet import ParquetFile\n",
    "import matplotlib.pyplot as plt\n",
    "import seaborn as sns\n",
    "from textblob import TextBlob, Word\n",
    "from sklearn.externals import joblib\n",
    "import json"
   ]
  },
  {
   "cell_type": "code",
   "execution_count": 2,
   "metadata": {},
   "outputs": [],
   "source": [
    "yelp_dir = Path('data', 'yelp')\n",
    "parquet_dir = yelp_dir / 'parquet'\n",
    "if not parquet_dir.exists():\n",
    "    parquet_dir.mkdir(exist_ok=True)"
   ]
  },
  {
   "cell_type": "code",
   "execution_count": 3,
   "metadata": {},
   "outputs": [
    {
     "name": "stdout",
     "output_type": "stream",
     "text": [
      "review\n",
      "Arrow error: Capacity error: BinaryArray cannot contain more than 2147483646 bytes, have 2147483692\n",
      "user\n"
     ]
    }
   ],
   "source": [
    "for file in ['review', 'user']:\n",
    "    print(file)\n",
    "    json_file = yelp_dir / 'json' / f'yelp_academic_dataset_{file}.json'\n",
    "    parquet_file = parquet_dir / f'{file}.parquet'\n",
    "\n",
    "    data = json_file.read_text(encoding='utf-8')\n",
    "    json_data = '[' + ','.join([l.strip()\n",
    "                                for l in data.split('\\n') if l.strip()]) + ']\\n'\n",
    "    data = json.loads(json_data)\n",
    "    df = json_normalize(data)\n",
    "    if file == 'review':\n",
    "        df.date = pd.to_datetime(df.date)\n",
    "        latest = df.date.max()\n",
    "        df['year'] = df.date.dt.year\n",
    "        df['month'] = df.date.dt.month\n",
    "        df = df.drop(['date', 'business_id', 'review_id'], axis=1)\n",
    "    if file == 'user':\n",
    "        df.yelping_since = pd.to_datetime(df.yelping_since)\n",
    "        df = (df.assign(member_yrs=lambda x: (latest - x.yelping_since)\n",
    "                        .dt.days.div(365).astype(int))\n",
    "              .drop(['elite', 'friends', 'name', 'yelping_since'], axis=1))\n",
    "    df.dropna(how='all', axis=1).to_parquet(parquet_file, compression='gzip')\n",
    "    try:\n",
    "        pd.read_parquet(parquet_file, engine='pyarrow')\n",
    "    except Exception as e:\n",
    "        print(e)\n",
    "        pd.read_parquet(parquet_file, engine='fastparquet')"
   ]
  },
  {
   "cell_type": "code",
   "execution_count": 4,
   "metadata": {},
   "outputs": [],
   "source": [
    "user = pd.read_parquet(parquet_dir / 'user.parquet')\n",
    "review = pd.read_parquet(parquet_dir / 'review.parquet', engine='fastparquet')"
   ]
  },
  {
   "cell_type": "code",
   "execution_count": 5,
   "metadata": {},
   "outputs": [
    {
     "data": {
      "text/html": [
       "<div>\n",
       "<style scoped>\n",
       "    .dataframe tbody tr th:only-of-type {\n",
       "        vertical-align: middle;\n",
       "    }\n",
       "\n",
       "    .dataframe tbody tr th {\n",
       "        vertical-align: top;\n",
       "    }\n",
       "\n",
       "    .dataframe thead th {\n",
       "        text-align: right;\n",
       "    }\n",
       "</style>\n",
       "<table border=\"1\" class=\"dataframe\">\n",
       "  <thead>\n",
       "    <tr style=\"text-align: right;\">\n",
       "      <th></th>\n",
       "      <th>average_stars</th>\n",
       "      <th>compliment_cool</th>\n",
       "      <th>compliment_cute</th>\n",
       "      <th>compliment_funny</th>\n",
       "      <th>compliment_hot</th>\n",
       "      <th>compliment_list</th>\n",
       "      <th>compliment_more</th>\n",
       "      <th>compliment_note</th>\n",
       "      <th>compliment_photos</th>\n",
       "      <th>compliment_plain</th>\n",
       "      <th>compliment_profile</th>\n",
       "      <th>compliment_writer</th>\n",
       "      <th>cool</th>\n",
       "      <th>fans</th>\n",
       "      <th>funny</th>\n",
       "      <th>review_count</th>\n",
       "      <th>useful</th>\n",
       "      <th>user_id</th>\n",
       "      <th>member_yrs</th>\n",
       "    </tr>\n",
       "  </thead>\n",
       "  <tbody>\n",
       "    <tr>\n",
       "      <th>0</th>\n",
       "      <td>2.00</td>\n",
       "      <td>0</td>\n",
       "      <td>0</td>\n",
       "      <td>0</td>\n",
       "      <td>0</td>\n",
       "      <td>0</td>\n",
       "      <td>0</td>\n",
       "      <td>0</td>\n",
       "      <td>0</td>\n",
       "      <td>0</td>\n",
       "      <td>0</td>\n",
       "      <td>0</td>\n",
       "      <td>0</td>\n",
       "      <td>0</td>\n",
       "      <td>0</td>\n",
       "      <td>1</td>\n",
       "      <td>0</td>\n",
       "      <td>lzlZwIpuSWXEnNS91wxjHw</td>\n",
       "      <td>2</td>\n",
       "    </tr>\n",
       "    <tr>\n",
       "      <th>1</th>\n",
       "      <td>5.00</td>\n",
       "      <td>0</td>\n",
       "      <td>0</td>\n",
       "      <td>0</td>\n",
       "      <td>0</td>\n",
       "      <td>0</td>\n",
       "      <td>0</td>\n",
       "      <td>0</td>\n",
       "      <td>0</td>\n",
       "      <td>0</td>\n",
       "      <td>0</td>\n",
       "      <td>0</td>\n",
       "      <td>0</td>\n",
       "      <td>0</td>\n",
       "      <td>0</td>\n",
       "      <td>2</td>\n",
       "      <td>0</td>\n",
       "      <td>XvLBr-9smbI0m_a7dXtB7w</td>\n",
       "      <td>2</td>\n",
       "    </tr>\n",
       "    <tr>\n",
       "      <th>2</th>\n",
       "      <td>4.00</td>\n",
       "      <td>0</td>\n",
       "      <td>0</td>\n",
       "      <td>0</td>\n",
       "      <td>0</td>\n",
       "      <td>0</td>\n",
       "      <td>0</td>\n",
       "      <td>0</td>\n",
       "      <td>0</td>\n",
       "      <td>0</td>\n",
       "      <td>0</td>\n",
       "      <td>0</td>\n",
       "      <td>0</td>\n",
       "      <td>0</td>\n",
       "      <td>0</td>\n",
       "      <td>1</td>\n",
       "      <td>0</td>\n",
       "      <td>QPT4Ud4H5sJVr68yXhoWFw</td>\n",
       "      <td>1</td>\n",
       "    </tr>\n",
       "    <tr>\n",
       "      <th>3</th>\n",
       "      <td>4.05</td>\n",
       "      <td>0</td>\n",
       "      <td>0</td>\n",
       "      <td>0</td>\n",
       "      <td>0</td>\n",
       "      <td>0</td>\n",
       "      <td>0</td>\n",
       "      <td>0</td>\n",
       "      <td>0</td>\n",
       "      <td>0</td>\n",
       "      <td>0</td>\n",
       "      <td>0</td>\n",
       "      <td>0</td>\n",
       "      <td>0</td>\n",
       "      <td>0</td>\n",
       "      <td>19</td>\n",
       "      <td>0</td>\n",
       "      <td>i5YitlHZpf0B3R0s_8NVuw</td>\n",
       "      <td>3</td>\n",
       "    </tr>\n",
       "    <tr>\n",
       "      <th>4</th>\n",
       "      <td>3.00</td>\n",
       "      <td>0</td>\n",
       "      <td>0</td>\n",
       "      <td>0</td>\n",
       "      <td>0</td>\n",
       "      <td>0</td>\n",
       "      <td>0</td>\n",
       "      <td>0</td>\n",
       "      <td>0</td>\n",
       "      <td>0</td>\n",
       "      <td>0</td>\n",
       "      <td>0</td>\n",
       "      <td>0</td>\n",
       "      <td>0</td>\n",
       "      <td>0</td>\n",
       "      <td>3</td>\n",
       "      <td>0</td>\n",
       "      <td>s4FoIXE_LSGviTHBe8dmcg</td>\n",
       "      <td>1</td>\n",
       "    </tr>\n",
       "  </tbody>\n",
       "</table>\n",
       "</div>"
      ],
      "text/plain": [
       "   average_stars  compliment_cool  compliment_cute  compliment_funny  \\\n",
       "0           2.00                0                0                 0   \n",
       "1           5.00                0                0                 0   \n",
       "2           4.00                0                0                 0   \n",
       "3           4.05                0                0                 0   \n",
       "4           3.00                0                0                 0   \n",
       "\n",
       "   compliment_hot  compliment_list  compliment_more  compliment_note  \\\n",
       "0               0                0                0                0   \n",
       "1               0                0                0                0   \n",
       "2               0                0                0                0   \n",
       "3               0                0                0                0   \n",
       "4               0                0                0                0   \n",
       "\n",
       "   compliment_photos  compliment_plain  compliment_profile  compliment_writer  \\\n",
       "0                  0                 0                   0                  0   \n",
       "1                  0                 0                   0                  0   \n",
       "2                  0                 0                   0                  0   \n",
       "3                  0                 0                   0                  0   \n",
       "4                  0                 0                   0                  0   \n",
       "\n",
       "   cool  fans  funny  review_count  useful                 user_id  member_yrs  \n",
       "0     0     0      0             1       0  lzlZwIpuSWXEnNS91wxjHw           2  \n",
       "1     0     0      0             2       0  XvLBr-9smbI0m_a7dXtB7w           2  \n",
       "2     0     0      0             1       0  QPT4Ud4H5sJVr68yXhoWFw           1  \n",
       "3     0     0      0            19       0  i5YitlHZpf0B3R0s_8NVuw           3  \n",
       "4     0     0      0             3       0  s4FoIXE_LSGviTHBe8dmcg           1  "
      ]
     },
     "execution_count": 5,
     "metadata": {},
     "output_type": "execute_result"
    }
   ],
   "source": [
    "user.head()"
   ]
  },
  {
   "cell_type": "code",
   "execution_count": 6,
   "metadata": {},
   "outputs": [
    {
     "data": {
      "text/html": [
       "<div>\n",
       "<style scoped>\n",
       "    .dataframe tbody tr th:only-of-type {\n",
       "        vertical-align: middle;\n",
       "    }\n",
       "\n",
       "    .dataframe tbody tr th {\n",
       "        vertical-align: top;\n",
       "    }\n",
       "\n",
       "    .dataframe thead th {\n",
       "        text-align: right;\n",
       "    }\n",
       "</style>\n",
       "<table border=\"1\" class=\"dataframe\">\n",
       "  <thead>\n",
       "    <tr style=\"text-align: right;\">\n",
       "      <th></th>\n",
       "      <th>cool</th>\n",
       "      <th>funny</th>\n",
       "      <th>stars</th>\n",
       "      <th>text</th>\n",
       "      <th>useful</th>\n",
       "      <th>user_id</th>\n",
       "      <th>year</th>\n",
       "      <th>month</th>\n",
       "    </tr>\n",
       "  </thead>\n",
       "  <tbody>\n",
       "    <tr>\n",
       "      <th>0</th>\n",
       "      <td>0</td>\n",
       "      <td>0</td>\n",
       "      <td>2</td>\n",
       "      <td>The pizza was okay. Not the best I've had. I p...</td>\n",
       "      <td>0</td>\n",
       "      <td>msQe1u7Z_XuqjGoqhB0J5g</td>\n",
       "      <td>2011</td>\n",
       "      <td>2</td>\n",
       "    </tr>\n",
       "    <tr>\n",
       "      <th>1</th>\n",
       "      <td>0</td>\n",
       "      <td>0</td>\n",
       "      <td>5</td>\n",
       "      <td>I love this place! My fiance And I go here atl...</td>\n",
       "      <td>0</td>\n",
       "      <td>msQe1u7Z_XuqjGoqhB0J5g</td>\n",
       "      <td>2012</td>\n",
       "      <td>11</td>\n",
       "    </tr>\n",
       "    <tr>\n",
       "      <th>2</th>\n",
       "      <td>1</td>\n",
       "      <td>1</td>\n",
       "      <td>1</td>\n",
       "      <td>Terrible. Dry corn bread. Rib tips were all fa...</td>\n",
       "      <td>3</td>\n",
       "      <td>msQe1u7Z_XuqjGoqhB0J5g</td>\n",
       "      <td>2014</td>\n",
       "      <td>10</td>\n",
       "    </tr>\n",
       "    <tr>\n",
       "      <th>3</th>\n",
       "      <td>0</td>\n",
       "      <td>0</td>\n",
       "      <td>2</td>\n",
       "      <td>Back in 2005-2007 this place was my FAVORITE t...</td>\n",
       "      <td>2</td>\n",
       "      <td>msQe1u7Z_XuqjGoqhB0J5g</td>\n",
       "      <td>2011</td>\n",
       "      <td>2</td>\n",
       "    </tr>\n",
       "    <tr>\n",
       "      <th>4</th>\n",
       "      <td>0</td>\n",
       "      <td>0</td>\n",
       "      <td>5</td>\n",
       "      <td>Delicious healthy food. The steak is amazing. ...</td>\n",
       "      <td>0</td>\n",
       "      <td>msQe1u7Z_XuqjGoqhB0J5g</td>\n",
       "      <td>2014</td>\n",
       "      <td>9</td>\n",
       "    </tr>\n",
       "  </tbody>\n",
       "</table>\n",
       "</div>"
      ],
      "text/plain": [
       "   cool  funny  stars                                               text  \\\n",
       "0     0      0      2  The pizza was okay. Not the best I've had. I p...   \n",
       "1     0      0      5  I love this place! My fiance And I go here atl...   \n",
       "2     1      1      1  Terrible. Dry corn bread. Rib tips were all fa...   \n",
       "3     0      0      2  Back in 2005-2007 this place was my FAVORITE t...   \n",
       "4     0      0      5  Delicious healthy food. The steak is amazing. ...   \n",
       "\n",
       "   useful                 user_id  year  month  \n",
       "0       0  msQe1u7Z_XuqjGoqhB0J5g  2011      2  \n",
       "1       0  msQe1u7Z_XuqjGoqhB0J5g  2012     11  \n",
       "2       3  msQe1u7Z_XuqjGoqhB0J5g  2014     10  \n",
       "3       2  msQe1u7Z_XuqjGoqhB0J5g  2011      2  \n",
       "4       0  msQe1u7Z_XuqjGoqhB0J5g  2014      9  "
      ]
     },
     "execution_count": 6,
     "metadata": {},
     "output_type": "execute_result"
    }
   ],
   "source": [
    "review.head()"
   ]
  },
  {
   "cell_type": "markdown",
   "metadata": {},
   "source": [
    "Merge user dataframe and review dataframe, we use suffix to deal with the same column names."
   ]
  },
  {
   "cell_type": "code",
   "execution_count": 7,
   "metadata": {},
   "outputs": [],
   "source": [
    "user_review = (review.merge(user, on='user_id', how='left', suffixes=['', '_user']).drop('user_id', axis=1))"
   ]
  },
  {
   "cell_type": "code",
   "execution_count": 8,
   "metadata": {},
   "outputs": [
    {
     "data": {
      "text/plain": [
       "Index(['cool', 'funny', 'stars', 'text', 'useful', 'year', 'month',\n",
       "       'average_stars', 'compliment_cool', 'compliment_cute',\n",
       "       'compliment_funny', 'compliment_hot', 'compliment_list',\n",
       "       'compliment_more', 'compliment_note', 'compliment_photos',\n",
       "       'compliment_plain', 'compliment_profile', 'compliment_writer',\n",
       "       'cool_user', 'fans', 'funny_user', 'review_count', 'useful_user',\n",
       "       'member_yrs'],\n",
       "      dtype='object')"
      ]
     },
     "execution_count": 8,
     "metadata": {},
     "output_type": "execute_result"
    }
   ],
   "source": [
    "user_review.columns"
   ]
  },
  {
   "cell_type": "code",
   "execution_count": 13,
   "metadata": {},
   "outputs": [
    {
     "data": {
      "text/plain": [
       "count    5.996996e+06\n",
       "mean     3.736306e+00\n",
       "std      1.447924e+00\n",
       "min      0.000000e+00\n",
       "25%      3.000000e+00\n",
       "50%      4.000000e+00\n",
       "75%      5.000000e+00\n",
       "max      5.000000e+00\n",
       "Name: stars, dtype: float64"
      ]
     },
     "execution_count": 13,
     "metadata": {},
     "output_type": "execute_result"
    }
   ],
   "source": [
    "user_review.stars.describe()"
   ]
  },
  {
   "cell_type": "markdown",
   "metadata": {},
   "source": [
    "We will remove zero stars."
   ]
  },
  {
   "cell_type": "code",
   "execution_count": 14,
   "metadata": {},
   "outputs": [],
   "source": [
    "user_review = user_review[user_review.stars > 0]"
   ]
  },
  {
   "cell_type": "code",
   "execution_count": 25,
   "metadata": {},
   "outputs": [
    {
     "data": {
      "image/png": "[encoded data removed]",
      "text/plain": [
       "<Figure size 720x432 with 1 Axes>"
      ]
     },
     "metadata": {},
     "output_type": "display_data"
    }
   ],
   "source": [
    "x=user_review['stars'].value_counts()\n",
    "x=x.sort_index()\n",
    "plt.figure(figsize=(10,6))\n",
    "ax= sns.barplot(x.index, x.values, alpha=0.8)\n",
    "plt.title(\"Star Rating Distribution\")\n",
    "plt.ylabel('count')\n",
    "plt.xlabel('Star Ratings')\n",
    "rects = ax.patches\n",
    "labels = x.values\n",
    "for rect, label in zip(rects, labels):\n",
    "    height = rect.get_height()\n",
    "    ax.text(rect.get_x() + rect.get_width()/2, height + 5, label, ha='center', va='bottom')\n",
    "plt.show();"
   ]
  },
  {
   "cell_type": "markdown",
   "metadata": {},
   "source": [
    "Good to know that most of the reviews star ratings are pretty high. And not many terrible reviews. Obvious, there’s an incentive for businesses to solicit as many good reviews as possible."
   ]
  },
  {
   "cell_type": "code",
   "execution_count": 26,
   "metadata": {},
   "outputs": [
    {
     "data": {
      "text/plain": [
       "5    2641880\n",
       "4    1335957\n",
       "1     858139\n",
       "3     673206\n",
       "2     487813\n",
       "Name: stars, dtype: int64"
      ]
     },
     "execution_count": 26,
     "metadata": {},
     "output_type": "execute_result"
    }
   ],
   "source": [
    "user_review.stars.value_counts()"
   ]
  },
  {
   "cell_type": "code",
   "execution_count": 27,
   "metadata": {},
   "outputs": [
    {
     "name": "stderr",
     "output_type": "stream",
     "text": [
      "C:\\Users\\SusanLi\\AppData\\Local\\Continuum\\anaconda3\\lib\\site-packages\\scipy\\stats\\stats.py:1713: FutureWarning: Using a non-tuple sequence for multidimensional indexing is deprecated; use `arr[tuple(seq)]` instead of `arr[seq]`. In the future this will be interpreted as an array index, `arr[np.array(seq)]`, which will result either in an error or a different result.\n",
      "  return np.add.reduce(sorted[indexer] * weights, axis=axis) / sumval\n"
     ]
    },
    {
     "data": {
      "image/png": "[encoded data removed]",
      "text/plain": [
       "<Figure size 1008x288 with 2 Axes>"
      ]
     },
     "metadata": {},
     "output_type": "display_data"
    }
   ],
   "source": [
    "fig, axes = plt.subplots(ncols=2, figsize=(14, 4))\n",
    "user_review.year.value_counts().sort_index().plot.bar(title='Reviews per Year', ax=axes[0]);\n",
    "sns.lineplot(x='year', y='stars', data=user_review, ax=axes[1])\n",
    "axes[1].set_title('Stars per year');"
   ]
  },
  {
   "cell_type": "code",
   "execution_count": 28,
   "metadata": {},
   "outputs": [
    {
     "data": {
      "text/plain": [
       "5     789312\n",
       "6     767460\n",
       "4     753483\n",
       "7     750720\n",
       "3     747215\n",
       "2     607776\n",
       "8     484111\n",
       "1     336847\n",
       "9     326262\n",
       "10    170026\n",
       "0     159440\n",
       "11     78357\n",
       "12     21801\n",
       "13      4185\n",
       "Name: member_yrs, dtype: int64"
      ]
     },
     "execution_count": 28,
     "metadata": {},
     "output_type": "execute_result"
    }
   ],
   "source": [
    "user_review.member_yrs.value_counts()"
   ]
  },
  {
   "cell_type": "markdown",
   "metadata": {},
   "source": [
    "There are over 4,000 members have been a Yelp member as long as it was founded."
   ]
  },
  {
   "cell_type": "code",
   "execution_count": 29,
   "metadata": {},
   "outputs": [
    {
     "data": {
      "text/html": [
       "<div>\n",
       "<style scoped>\n",
       "    .dataframe tbody tr th:only-of-type {\n",
       "        vertical-align: middle;\n",
       "    }\n",
       "\n",
       "    .dataframe tbody tr th {\n",
       "        vertical-align: top;\n",
       "    }\n",
       "\n",
       "    .dataframe thead th {\n",
       "        text-align: right;\n",
       "    }\n",
       "</style>\n",
       "<table border=\"1\" class=\"dataframe\">\n",
       "  <thead>\n",
       "    <tr style=\"text-align: right;\">\n",
       "      <th></th>\n",
       "      <th>cool</th>\n",
       "      <th>funny</th>\n",
       "      <th>stars</th>\n",
       "      <th>text</th>\n",
       "      <th>useful</th>\n",
       "      <th>year</th>\n",
       "      <th>month</th>\n",
       "      <th>average_stars</th>\n",
       "      <th>compliment_cool</th>\n",
       "      <th>compliment_cute</th>\n",
       "      <th>...</th>\n",
       "      <th>compliment_photos</th>\n",
       "      <th>compliment_plain</th>\n",
       "      <th>compliment_profile</th>\n",
       "      <th>compliment_writer</th>\n",
       "      <th>cool_user</th>\n",
       "      <th>fans</th>\n",
       "      <th>funny_user</th>\n",
       "      <th>review_count</th>\n",
       "      <th>useful_user</th>\n",
       "      <th>member_yrs</th>\n",
       "    </tr>\n",
       "  </thead>\n",
       "  <tbody>\n",
       "    <tr>\n",
       "      <th>0</th>\n",
       "      <td>0</td>\n",
       "      <td>0</td>\n",
       "      <td>2</td>\n",
       "      <td>The pizza was okay. Not the best I've had. I p...</td>\n",
       "      <td>0</td>\n",
       "      <td>2011</td>\n",
       "      <td>2</td>\n",
       "      <td>3.31</td>\n",
       "      <td>2</td>\n",
       "      <td>0</td>\n",
       "      <td>...</td>\n",
       "      <td>0</td>\n",
       "      <td>0</td>\n",
       "      <td>0</td>\n",
       "      <td>0</td>\n",
       "      <td>1</td>\n",
       "      <td>1</td>\n",
       "      <td>1</td>\n",
       "      <td>11</td>\n",
       "      <td>4</td>\n",
       "      <td>7</td>\n",
       "    </tr>\n",
       "    <tr>\n",
       "      <th>1</th>\n",
       "      <td>0</td>\n",
       "      <td>0</td>\n",
       "      <td>5</td>\n",
       "      <td>I love this place! My fiance And I go here atl...</td>\n",
       "      <td>0</td>\n",
       "      <td>2012</td>\n",
       "      <td>11</td>\n",
       "      <td>3.31</td>\n",
       "      <td>2</td>\n",
       "      <td>0</td>\n",
       "      <td>...</td>\n",
       "      <td>0</td>\n",
       "      <td>0</td>\n",
       "      <td>0</td>\n",
       "      <td>0</td>\n",
       "      <td>1</td>\n",
       "      <td>1</td>\n",
       "      <td>1</td>\n",
       "      <td>11</td>\n",
       "      <td>4</td>\n",
       "      <td>7</td>\n",
       "    </tr>\n",
       "    <tr>\n",
       "      <th>2</th>\n",
       "      <td>1</td>\n",
       "      <td>1</td>\n",
       "      <td>1</td>\n",
       "      <td>Terrible. Dry corn bread. Rib tips were all fa...</td>\n",
       "      <td>3</td>\n",
       "      <td>2014</td>\n",
       "      <td>10</td>\n",
       "      <td>3.31</td>\n",
       "      <td>2</td>\n",
       "      <td>0</td>\n",
       "      <td>...</td>\n",
       "      <td>0</td>\n",
       "      <td>0</td>\n",
       "      <td>0</td>\n",
       "      <td>0</td>\n",
       "      <td>1</td>\n",
       "      <td>1</td>\n",
       "      <td>1</td>\n",
       "      <td>11</td>\n",
       "      <td>4</td>\n",
       "      <td>7</td>\n",
       "    </tr>\n",
       "  </tbody>\n",
       "</table>\n",
       "<p>3 rows × 25 columns</p>\n",
       "</div>"
      ],
      "text/plain": [
       "   cool  funny  stars                                               text  \\\n",
       "0     0      0      2  The pizza was okay. Not the best I've had. I p...   \n",
       "1     0      0      5  I love this place! My fiance And I go here atl...   \n",
       "2     1      1      1  Terrible. Dry corn bread. Rib tips were all fa...   \n",
       "\n",
       "   useful  year  month  average_stars  compliment_cool  compliment_cute  \\\n",
       "0       0  2011      2           3.31                2                0   \n",
       "1       0  2012     11           3.31                2                0   \n",
       "2       3  2014     10           3.31                2                0   \n",
       "\n",
       "      ...      compliment_photos  compliment_plain  compliment_profile  \\\n",
       "0     ...                      0                 0                   0   \n",
       "1     ...                      0                 0                   0   \n",
       "2     ...                      0                 0                   0   \n",
       "\n",
       "   compliment_writer  cool_user  fans  funny_user  review_count  useful_user  \\\n",
       "0                  0          1     1           1            11            4   \n",
       "1                  0          1     1           1            11            4   \n",
       "2                  0          1     1           1            11            4   \n",
       "\n",
       "   member_yrs  \n",
       "0           7  \n",
       "1           7  \n",
       "2           7  \n",
       "\n",
       "[3 rows x 25 columns]"
      ]
     },
     "execution_count": 29,
     "metadata": {},
     "output_type": "execute_result"
    }
   ],
   "source": [
    "user_review.head(3)"
   ]
  },
  {
   "cell_type": "markdown",
   "metadata": {},
   "source": [
    "Let's have a look a review sample."
   ]
  },
  {
   "cell_type": "code",
   "execution_count": 34,
   "metadata": {},
   "outputs": [
    {
     "name": "stdout",
     "output_type": "stream",
     "text": [
      "We went here because we saw on social media that they had a vegan burger. Well, that wasn't the case. We got the veggie sandwich. The service was ok. Then while we were eating, the sterateck auditor came in. It was disappointing to see the entire staff scramble and start putting on gloves and stuff they should always be doing. Not sure I will return here. Standards should be upheld at all times, not when the inspector shows up.\n"
     ]
    }
   ],
   "source": [
    "review_sample = user_review.text.sample(1).iloc[0]\n",
    "print(review_sample)"
   ]
  },
  {
   "cell_type": "markdown",
   "metadata": {},
   "source": [
    "Let's check the polarity of this review sample. Polarity ranges from -1 (most negative) to 1 (most positive)."
   ]
  },
  {
   "cell_type": "code",
   "execution_count": 59,
   "metadata": {},
   "outputs": [
    {
     "data": {
      "text/plain": [
       "Sentiment(polarity=-0.06333333333333332, subjectivity=0.5561111111111111)"
      ]
     },
     "execution_count": 59,
     "metadata": {},
     "output_type": "execute_result"
    }
   ],
   "source": [
    "TextBlob(review_sample).sentiment"
   ]
  },
  {
   "cell_type": "markdown",
   "metadata": {},
   "source": [
    "The above review has a polarity of about -0.06, meaning it is slightly negative, and a subjectivity of about 0.56, meaning it is fairly subjective."
   ]
  },
  {
   "cell_type": "markdown",
   "metadata": {},
   "source": [
    "To proceed faster, we will sample 1 million reviews from our current data. And add a new column for polarity."
   ]
  },
  {
   "cell_type": "code",
   "execution_count": 37,
   "metadata": {},
   "outputs": [],
   "source": [
    "sample_reviews = user_review[['stars', 'text']].sample(1000000)"
   ]
  },
  {
   "cell_type": "markdown",
   "metadata": {},
   "source": [
    "Define a function that accepts text and return the polarity."
   ]
  },
  {
   "cell_type": "code",
   "execution_count": 40,
   "metadata": {},
   "outputs": [],
   "source": [
    "def detect_polarity(text):\n",
    "    return TextBlob(text).sentiment.polarity"
   ]
  },
  {
   "cell_type": "code",
   "execution_count": 41,
   "metadata": {},
   "outputs": [
    {
     "data": {
      "text/html": [
       "<div>\n",
       "<style scoped>\n",
       "    .dataframe tbody tr th:only-of-type {\n",
       "        vertical-align: middle;\n",
       "    }\n",
       "\n",
       "    .dataframe tbody tr th {\n",
       "        vertical-align: top;\n",
       "    }\n",
       "\n",
       "    .dataframe thead th {\n",
       "        text-align: right;\n",
       "    }\n",
       "</style>\n",
       "<table border=\"1\" class=\"dataframe\">\n",
       "  <thead>\n",
       "    <tr style=\"text-align: right;\">\n",
       "      <th></th>\n",
       "      <th>stars</th>\n",
       "      <th>text</th>\n",
       "      <th>polarity</th>\n",
       "    </tr>\n",
       "  </thead>\n",
       "  <tbody>\n",
       "    <tr>\n",
       "      <th>3832255</th>\n",
       "      <td>4</td>\n",
       "      <td>Love love love my neighborhood Sprouts! Everyb...</td>\n",
       "      <td>0.525000</td>\n",
       "    </tr>\n",
       "    <tr>\n",
       "      <th>5979201</th>\n",
       "      <td>4</td>\n",
       "      <td>Als Liebhaber der deep dish Pizzas, welche urs...</td>\n",
       "      <td>0.125000</td>\n",
       "    </tr>\n",
       "    <tr>\n",
       "      <th>33378</th>\n",
       "      <td>5</td>\n",
       "      <td>Always good food and if you buy a burrito toda...</td>\n",
       "      <td>0.453571</td>\n",
       "    </tr>\n",
       "    <tr>\n",
       "      <th>1888280</th>\n",
       "      <td>4</td>\n",
       "      <td>Brussel Sprouts... I'm gonna base my review on...</td>\n",
       "      <td>0.160114</td>\n",
       "    </tr>\n",
       "    <tr>\n",
       "      <th>1507759</th>\n",
       "      <td>4</td>\n",
       "      <td>On a rainy and wet day, the weather was even i...</td>\n",
       "      <td>0.267622</td>\n",
       "    </tr>\n",
       "  </tbody>\n",
       "</table>\n",
       "</div>"
      ],
      "text/plain": [
       "         stars                                               text  polarity\n",
       "3832255      4  Love love love my neighborhood Sprouts! Everyb...  0.525000\n",
       "5979201      4  Als Liebhaber der deep dish Pizzas, welche urs...  0.125000\n",
       "33378        5  Always good food and if you buy a burrito toda...  0.453571\n",
       "1888280      4  Brussel Sprouts... I'm gonna base my review on...  0.160114\n",
       "1507759      4  On a rainy and wet day, the weather was even i...  0.267622"
      ]
     },
     "execution_count": 41,
     "metadata": {},
     "output_type": "execute_result"
    }
   ],
   "source": [
    "sample_reviews['polarity'] = sample_reviews.text.apply(detect_polarity)\n",
    "sample_reviews.head()"
   ]
  },
  {
   "cell_type": "markdown",
   "metadata": {},
   "source": [
    "First several rows look good, stars and polarity are in line with each other, means the higher the star, the higher the polarity, as it should be. "
   ]
  },
  {
   "cell_type": "code",
   "execution_count": 56,
   "metadata": {},
   "outputs": [
    {
     "data": {
      "image/png": "[encoded data removed]",
      "text/plain": [
       "<Figure size 720x432 with 1 Axes>"
      ]
     },
     "metadata": {},
     "output_type": "display_data"
    }
   ],
   "source": [
    "# A histogram of the polarity scores.\n",
    "num_bins = 50\n",
    "plt.figure(figsize=(10,6))\n",
    "n, bins, patches = plt.hist(sample_reviews.polarity, num_bins, facecolor='blue', alpha=0.5)\n",
    "plt.xlabel('Polarity')\n",
    "plt.ylabel('Count')\n",
    "plt.title('Histogram of polarity')\n",
    "plt.show();"
   ]
  },
  {
   "cell_type": "markdown",
   "metadata": {},
   "source": [
    "Most polarity scores are above 0, means most of them are postive sentiment, this is in line with the star distribution. "
   ]
  },
  {
   "cell_type": "code",
   "execution_count": 44,
   "metadata": {},
   "outputs": [
    {
     "data": {
      "image/png": "[encoded data removed]",
      "text/plain": [
       "<Figure size 720x432 with 1 Axes>"
      ]
     },
     "metadata": {},
     "output_type": "display_data"
    }
   ],
   "source": [
    "# Box plot of sentiment grouped by stars\n",
    "plt.figure(figsize=(10,6))\n",
    "sns.boxenplot(x='stars', y='polarity', data=sample_reviews)\n",
    "plt.show();"
   ]
  },
  {
   "cell_type": "markdown",
   "metadata": {},
   "source": [
    "In general, this is as good as we'd expect. Let's investigate deeper and see whether we can find anything interesting or outlier."
   ]
  },
  {
   "cell_type": "code",
   "execution_count": 45,
   "metadata": {},
   "outputs": [],
   "source": [
    "pd.set_option('max_colwidth', 400)"
   ]
  },
  {
   "cell_type": "markdown",
   "metadata": {},
   "source": [
    "Reviews that have the lowest polarity:"
   ]
  },
  {
   "cell_type": "code",
   "execution_count": 57,
   "metadata": {},
   "outputs": [
    {
     "data": {
      "text/plain": [
       "676402                                                                                              Awful quality with awful staff. 9 of us had stomach upset after having lunch buffet.\n",
       "5721798                                                                                                                        worst internet ever, i have to use my phone data at home!\n",
       "2992269    Horrible customer service! Waited at the front desk for 30 mins no one came and asked me if I needed anything or if I was already being assisted. Never come here EVER again.\n",
       "1274473                                                                                                         I can't stand Ghazale.  Worst falafel ever. They microwave your falafel.\n",
       "1307440                                              Needed my car towed from my house to a garage that was 2 miles\\naway. The cost of the tow was $145.00. Completly outrageous price!!\n",
       "Name: text, dtype: object"
      ]
     },
     "execution_count": 57,
     "metadata": {},
     "output_type": "execute_result"
    }
   ],
   "source": [
    "sample_reviews[sample_reviews.polarity == -1].text.head()"
   ]
  },
  {
   "cell_type": "markdown",
   "metadata": {},
   "source": [
    "Reviews that have the lowest stars:"
   ]
  },
  {
   "cell_type": "code",
   "execution_count": 58,
   "metadata": {},
   "outputs": [
    {
     "data": {
      "text/plain": [
       "4385486                                                                                                                                                 Do not use this company... Crappy customer service and not friendly staff... Call center staff the same.. Call Monday and didn't get service until today Wednesday . I am not using anymore... They are bad bad bad... They are contracted by AHS.. Called AHS TOO\n",
       "343256                                                                     We tried Swerve because we purchased a Groupon.  Our server was very nice but our food didn't come out to us for 45 minutes. Out of 14 tables only three were being used. We kept asking when we would receive our salad and burger and keep being given the answer \"two more minutes\". Once our food did come out the burger was unimpressive.\n",
       "4242301    First and probably only visit. We ordered a Salted Caramel Latte, Cappuccino, Affogato and Squid Rings.\\n\\nNo latte art here, too much milk foam, and espresso was very mild.\\n\\nNever seen an affogato come with chocolate ice cream, and scooped so sloppy. Looks kinda gross, to be honest.\\n\\nMusic was too loud. The rag used to clean tables had a bad lingering smell. That's just something that bot...\n",
       "3074648    I would not recommend this salon.  The staff are not very friendly and they switch people in and out to work on you. I believe they do this to spread the tips around. I had one girl start my pedicure and another girl finished it. I thought maybe she had an appointment, but she just went and sat at the desk. She also scrubbed so hard when removing the callus that I have 2 sores on my right foot...\n",
       "5335387    Please skip past this company and hire one of the other hundreds of party bus companies in town.\\n\\n   I am a Maid of Honor and needed a party bus for a bachelorette party. I was specifically looking for a two hour rental, that could be split into a one and a half hours of drive time, with a drop off at a show; and another half hour ride back from the show, to our hotel. I went through a large...\n",
       "Name: text, dtype: object"
      ]
     },
     "execution_count": 58,
     "metadata": {},
     "output_type": "execute_result"
    }
   ],
   "source": [
    "sample_reviews[sample_reviews.stars == 1].text.head()"
   ]
  },
  {
   "cell_type": "markdown",
   "metadata": {},
   "source": [
    "Reviews that have lowest polarity (most negative sentiment) but with a 5-star:"
   ]
  },
  {
   "cell_type": "code",
   "execution_count": 51,
   "metadata": {},
   "outputs": [
    {
     "data": {
      "text/html": [
       "<div>\n",
       "<style scoped>\n",
       "    .dataframe tbody tr th:only-of-type {\n",
       "        vertical-align: middle;\n",
       "    }\n",
       "\n",
       "    .dataframe tbody tr th {\n",
       "        vertical-align: top;\n",
       "    }\n",
       "\n",
       "    .dataframe thead th {\n",
       "        text-align: right;\n",
       "    }\n",
       "</style>\n",
       "<table border=\"1\" class=\"dataframe\">\n",
       "  <thead>\n",
       "    <tr style=\"text-align: right;\">\n",
       "      <th></th>\n",
       "      <th>stars</th>\n",
       "      <th>text</th>\n",
       "      <th>polarity</th>\n",
       "    </tr>\n",
       "  </thead>\n",
       "  <tbody>\n",
       "    <tr>\n",
       "      <th>5630685</th>\n",
       "      <td>5</td>\n",
       "      <td>The stuffing I just administered to myself was thorough and devastating. But I'll assault myself again here in identical fashion when the opportunity presents itself. Our waiter knew what I needed and provided recommendations tailored to my gluttonous yet vegetarian needs. All of the stars.</td>\n",
       "      <td>-1.0</td>\n",
       "    </tr>\n",
       "    <tr>\n",
       "      <th>3175756</th>\n",
       "      <td>5</td>\n",
       "      <td>Bueno, alguien tiene que hacer una review en español. Al menos voy a hacer de la noche (no fui al day club)\\nEl boliche explota. Está 10 puntos y tenés un sector abierto (el patio) donde pasan mas hip hop , y es más tranqui para charlar y conocer gente. Asi mismo está el sector de adentro, donde toca el Dj, que en nuestro caso fue Porter Robinson. Ahí adentro casi no se puede estar de lo lleno...</td>\n",
       "      <td>-1.0</td>\n",
       "    </tr>\n",
       "    <tr>\n",
       "      <th>5296058</th>\n",
       "      <td>5</td>\n",
       "      <td>One thing to say Bloody Mary Bar off the charts!</td>\n",
       "      <td>-1.0</td>\n",
       "    </tr>\n",
       "    <tr>\n",
       "      <th>4350889</th>\n",
       "      <td>5</td>\n",
       "      <td>PBJ and Bacon burger is  heaven sent!!!!  No Joke!  Don't be afraid because it sounds funky... it is DELISH!!!!!</td>\n",
       "      <td>-1.0</td>\n",
       "    </tr>\n",
       "    <tr>\n",
       "      <th>4754984</th>\n",
       "      <td>5</td>\n",
       "      <td>I'm that annoying customer with food allergies and restrictions, but Peter was so patient and helpful!!! Made me feel welcomed and told me all my options... Thank you Peter!</td>\n",
       "      <td>-1.0</td>\n",
       "    </tr>\n",
       "    <tr>\n",
       "      <th>5146895</th>\n",
       "      <td>5</td>\n",
       "      <td>I've overheard the worst thing about this bar is the font size on the bill.....it's all about size people.</td>\n",
       "      <td>-1.0</td>\n",
       "    </tr>\n",
       "    <tr>\n",
       "      <th>3209896</th>\n",
       "      <td>5</td>\n",
       "      <td>Un petit bijou du Mile-Ex, le marché Soupson vaut absolument le détour. C'est à la fois un petit marché hétéroclite où on peut acheter bière, bonbon, grignotines et fruits/légumes (attention, les prix sont plus élevés qu'ailleurs) et un comptoir à sandwiches et à soupes parfait pour le lunch.\\n\\nLes soupes sont fabuleusement incroyables, je ne comprends pas comment la sympathique propriétaire ...</td>\n",
       "      <td>-1.0</td>\n",
       "    </tr>\n",
       "    <tr>\n",
       "      <th>5519806</th>\n",
       "      <td>5</td>\n",
       "      <td>Threw on my flowmasters and couldn't be fucking happier, transformed my cars exhaust system into a beast!!!</td>\n",
       "      <td>-1.0</td>\n",
       "    </tr>\n",
       "    <tr>\n",
       "      <th>4425019</th>\n",
       "      <td>5</td>\n",
       "      <td>In the midst of a horrible night, my girlfriend and I stopped in at around 1 AM. The proprieter of the bar and the clientele were so caring and welcoming that it saved our evening from despair. Thank you thank you thank you.</td>\n",
       "      <td>-1.0</td>\n",
       "    </tr>\n",
       "    <tr>\n",
       "      <th>3852388</th>\n",
       "      <td>5</td>\n",
       "      <td>chicken!\\nwaffles!\\nkool aid!\\n\\nwhy aren't you eating at lolo's yet?</td>\n",
       "      <td>-1.0</td>\n",
       "    </tr>\n",
       "  </tbody>\n",
       "</table>\n",
       "</div>"
      ],
      "text/plain": [
       "         stars  \\\n",
       "5630685      5   \n",
       "3175756      5   \n",
       "5296058      5   \n",
       "4350889      5   \n",
       "4754984      5   \n",
       "5146895      5   \n",
       "3209896      5   \n",
       "5519806      5   \n",
       "4425019      5   \n",
       "3852388      5   \n",
       "\n",
       "                                                                                                                                                                                                                                                                                                                                                                                                                    text  \\\n",
       "5630685                                                                                                              The stuffing I just administered to myself was thorough and devastating. But I'll assault myself again here in identical fashion when the opportunity presents itself. Our waiter knew what I needed and provided recommendations tailored to my gluttonous yet vegetarian needs. All of the stars.   \n",
       "3175756  Bueno, alguien tiene que hacer una review en español. Al menos voy a hacer de la noche (no fui al day club)\\nEl boliche explota. Está 10 puntos y tenés un sector abierto (el patio) donde pasan mas hip hop , y es más tranqui para charlar y conocer gente. Asi mismo está el sector de adentro, donde toca el Dj, que en nuestro caso fue Porter Robinson. Ahí adentro casi no se puede estar de lo lleno...   \n",
       "5296058                                                                                                                                                                                                                                                                                                                                                                 One thing to say Bloody Mary Bar off the charts!   \n",
       "4350889                                                                                                                                                                                                                                                                                                 PBJ and Bacon burger is  heaven sent!!!!  No Joke!  Don't be afraid because it sounds funky... it is DELISH!!!!!   \n",
       "4754984                                                                                                                                                                                                                                    I'm that annoying customer with food allergies and restrictions, but Peter was so patient and helpful!!! Made me feel welcomed and told me all my options... Thank you Peter!   \n",
       "5146895                                                                                                                                                                                                                                                                                                       I've overheard the worst thing about this bar is the font size on the bill.....it's all about size people.   \n",
       "3209896  Un petit bijou du Mile-Ex, le marché Soupson vaut absolument le détour. C'est à la fois un petit marché hétéroclite où on peut acheter bière, bonbon, grignotines et fruits/légumes (attention, les prix sont plus élevés qu'ailleurs) et un comptoir à sandwiches et à soupes parfait pour le lunch.\\n\\nLes soupes sont fabuleusement incroyables, je ne comprends pas comment la sympathique propriétaire ...   \n",
       "5519806                                                                                                                                                                                                                                                                                                      Threw on my flowmasters and couldn't be fucking happier, transformed my cars exhaust system into a beast!!!   \n",
       "4425019                                                                                                                                                                                 In the midst of a horrible night, my girlfriend and I stopped in at around 1 AM. The proprieter of the bar and the clientele were so caring and welcoming that it saved our evening from despair. Thank you thank you thank you.   \n",
       "3852388                                                                                                                                                                                                                                                                                                                                            chicken!\\nwaffles!\\nkool aid!\\n\\nwhy aren't you eating at lolo's yet?   \n",
       "\n",
       "         polarity  \n",
       "5630685      -1.0  \n",
       "3175756      -1.0  \n",
       "5296058      -1.0  \n",
       "4350889      -1.0  \n",
       "4754984      -1.0  \n",
       "5146895      -1.0  \n",
       "3209896      -1.0  \n",
       "5519806      -1.0  \n",
       "4425019      -1.0  \n",
       "3852388      -1.0  "
      ]
     },
     "execution_count": 51,
     "metadata": {},
     "output_type": "execute_result"
    }
   ],
   "source": [
    "sample_reviews[(sample_reviews.stars == 5) & (sample_reviews.polarity == -1)].head(10)"
   ]
  },
  {
   "cell_type": "markdown",
   "metadata": {},
   "source": [
    "Reviews that have the highest polarity (most positive sentiment) but with a 1-star:"
   ]
  },
  {
   "cell_type": "code",
   "execution_count": 54,
   "metadata": {
    "scrolled": false
   },
   "outputs": [
    {
     "data": {
      "text/html": [
       "<div>\n",
       "<style scoped>\n",
       "    .dataframe tbody tr th:only-of-type {\n",
       "        vertical-align: middle;\n",
       "    }\n",
       "\n",
       "    .dataframe tbody tr th {\n",
       "        vertical-align: top;\n",
       "    }\n",
       "\n",
       "    .dataframe thead th {\n",
       "        text-align: right;\n",
       "    }\n",
       "</style>\n",
       "<table border=\"1\" class=\"dataframe\">\n",
       "  <thead>\n",
       "    <tr style=\"text-align: right;\">\n",
       "      <th></th>\n",
       "      <th>stars</th>\n",
       "      <th>text</th>\n",
       "      <th>polarity</th>\n",
       "    </tr>\n",
       "  </thead>\n",
       "  <tbody>\n",
       "    <tr>\n",
       "      <th>4307505</th>\n",
       "      <td>1</td>\n",
       "      <td>Discount Tire treated me like they were doing me a favor and may have a 4 hour wait, no promises, and some mumbo jumbo about additional road hazard expense, so I went to Costco. In and out in an hour with excellent pricing at Costco. Awesome!</td>\n",
       "      <td>1.0</td>\n",
       "    </tr>\n",
       "    <tr>\n",
       "      <th>5819703</th>\n",
       "      <td>1</td>\n",
       "      <td>$2.71 for a bottle of water...horrible!!!  16.9 ounces of Nestle. Gimme a fffff break! Not even good quality alkaline water! Get outta here!!!!</td>\n",
       "      <td>1.0</td>\n",
       "    </tr>\n",
       "    <tr>\n",
       "      <th>3751568</th>\n",
       "      <td>1</td>\n",
       "      <td>Sahara was perfect when I had the college student's budget. But I'll never stay here again, I don't even think I want to even walk in here again. All the rooms smell like smoke even if it's a non-smoking room and the linens look like they're been there since the hotel has opened.</td>\n",
       "      <td>1.0</td>\n",
       "    </tr>\n",
       "    <tr>\n",
       "      <th>227044</th>\n",
       "      <td>1</td>\n",
       "      <td>Problem is that they use \"take a number\" system, then let locals cut in line. I waited my turn for 3o minutes while people were allowed to cut. Cavatelli was so so at best.</td>\n",
       "      <td>1.0</td>\n",
       "    </tr>\n",
       "    <tr>\n",
       "      <th>5922719</th>\n",
       "      <td>1</td>\n",
       "      <td>They have made so many mistakes here, They must have underaged teenagers running the accounting deptartment!\\nGet it together!!!!!!!!!!!</td>\n",
       "      <td>1.0</td>\n",
       "    </tr>\n",
       "    <tr>\n",
       "      <th>2129917</th>\n",
       "      <td>1</td>\n",
       "      <td>Aweful the lack of cheese is one thing but where was the meat...?!??!?!no cilantro drizzle or anything would rather have anything else but the beer is awesome! !!!!!!!!</td>\n",
       "      <td>1.0</td>\n",
       "    </tr>\n",
       "    <tr>\n",
       "      <th>4268651</th>\n",
       "      <td>1</td>\n",
       "      <td>Q=Quite\\nU=Unsanitary\\nA=And\\nD=Dumpy\\n\\nA great location, however!</td>\n",
       "      <td>1.0</td>\n",
       "    </tr>\n",
       "    <tr>\n",
       "      <th>156915</th>\n",
       "      <td>1</td>\n",
       "      <td>I bought once from this guy Jerry, and had an excellent experience with him and their products. But when I called to have him bring me some steaks again, Jerry had his arrogant boss with him who is Fat and bald (just like myself lol) this boss insulted me to the max by mentioning my departed Son who was an army medic. To the management, please do not let this SOB be associated with your busine...</td>\n",
       "      <td>1.0</td>\n",
       "    </tr>\n",
       "    <tr>\n",
       "      <th>348113</th>\n",
       "      <td>1</td>\n",
       "      <td>Visited this location yesterday 5/16, I ordered a tuna lettuce wrap with the works. When lunch time rolls around, I take a healthy bite of my wrap and what do I find???  NO TUNA!!!!</td>\n",
       "      <td>1.0</td>\n",
       "    </tr>\n",
       "    <tr>\n",
       "      <th>5645590</th>\n",
       "      <td>1</td>\n",
       "      <td>Just called to find if they have a product in stock, the guy on the phone was complaining about not hearing me well, before I had a chance to improve my reception he just hanged up on me! What a great way to deal with customers !</td>\n",
       "      <td>1.0</td>\n",
       "    </tr>\n",
       "  </tbody>\n",
       "</table>\n",
       "</div>"
      ],
      "text/plain": [
       "         stars  \\\n",
       "4307505      1   \n",
       "5819703      1   \n",
       "3751568      1   \n",
       "227044       1   \n",
       "5922719      1   \n",
       "2129917      1   \n",
       "4268651      1   \n",
       "156915       1   \n",
       "348113       1   \n",
       "5645590      1   \n",
       "\n",
       "                                                                                                                                                                                                                                                                                                                                                                                                                    text  \\\n",
       "4307505                                                                                                                                                               Discount Tire treated me like they were doing me a favor and may have a 4 hour wait, no promises, and some mumbo jumbo about additional road hazard expense, so I went to Costco. In and out in an hour with excellent pricing at Costco. Awesome!   \n",
       "5819703                                                                                                                                                                                                                                                                  $2.71 for a bottle of water...horrible!!!  16.9 ounces of Nestle. Gimme a fffff break! Not even good quality alkaline water! Get outta here!!!!   \n",
       "3751568                                                                                                                         Sahara was perfect when I had the college student's budget. But I'll never stay here again, I don't even think I want to even walk in here again. All the rooms smell like smoke even if it's a non-smoking room and the linens look like they're been there since the hotel has opened.   \n",
       "227044                                                                                                                                                                                                                                      Problem is that they use \"take a number\" system, then let locals cut in line. I waited my turn for 3o minutes while people were allowed to cut. Cavatelli was so so at best.   \n",
       "5922719                                                                                                                                                                                                                                                                         They have made so many mistakes here, They must have underaged teenagers running the accounting deptartment!\\nGet it together!!!!!!!!!!!   \n",
       "2129917                                                                                                                                                                                                                                         Aweful the lack of cheese is one thing but where was the meat...?!??!?!no cilantro drizzle or anything would rather have anything else but the beer is awesome! !!!!!!!!   \n",
       "4268651                                                                                                                                                                                                                                                                                                                                              Q=Quite\\nU=Unsanitary\\nA=And\\nD=Dumpy\\n\\nA great location, however!   \n",
       "156915   I bought once from this guy Jerry, and had an excellent experience with him and their products. But when I called to have him bring me some steaks again, Jerry had his arrogant boss with him who is Fat and bald (just like myself lol) this boss insulted me to the max by mentioning my departed Son who was an army medic. To the management, please do not let this SOB be associated with your busine...   \n",
       "348113                                                                                                                                                                                                                             Visited this location yesterday 5/16, I ordered a tuna lettuce wrap with the works. When lunch time rolls around, I take a healthy bite of my wrap and what do I find???  NO TUNA!!!!   \n",
       "5645590                                                                                                                                                                            Just called to find if they have a product in stock, the guy on the phone was complaining about not hearing me well, before I had a chance to improve my reception he just hanged up on me! What a great way to deal with customers !   \n",
       "\n",
       "         polarity  \n",
       "4307505       1.0  \n",
       "5819703       1.0  \n",
       "3751568       1.0  \n",
       "227044        1.0  \n",
       "5922719       1.0  \n",
       "2129917       1.0  \n",
       "4268651       1.0  \n",
       "156915        1.0  \n",
       "348113        1.0  \n",
       "5645590       1.0  "
      ]
     },
     "execution_count": 54,
     "metadata": {},
     "output_type": "execute_result"
    }
   ],
   "source": [
    "sample_reviews[(sample_reviews.stars == 1) & (sample_reviews.polarity == 1)].head(10)"
   ]
  },
  {
   "cell_type": "markdown",
   "metadata": {},
   "source": [
    "TextBlob goes along finding words and phrases it can assign polarity and subjectivity to, and it averages them all together for longer text, such as our Yelp reviews. Want to learn how TextBlob calculates polarity and subjectivity, this article from Aaron has given a simple but clear explanation. https://planspace.org/20150607-textblob_sentiment/"
   ]
  },
  {
   "cell_type": "code",
   "execution_count": null,
   "metadata": {},
   "outputs": [],
   "source": []
  }
 ],
 "metadata": {
  "kernelspec": {
   "display_name": "Python 3",
   "language": "python",
   "name": "python3"
  },
  "language_info": {
   "codemirror_mode": {
    "name": "ipython",
    "version": 3
   },
   "file_extension": ".py",
   "mimetype": "text/x-python",
   "name": "python",
   "nbconvert_exporter": "python",
   "pygments_lexer": "ipython3",
   "version": "3.6.4"
  }
 },
 "nbformat": 4,
 "nbformat_minor": 2
}
