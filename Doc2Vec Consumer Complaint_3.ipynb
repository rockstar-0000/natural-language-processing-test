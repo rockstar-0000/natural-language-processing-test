{
 "cells": [
  {
   "cell_type": "code",
   "execution_count": 2,
   "metadata": {},
   "outputs": [],
   "source": [
    "import pandas as pd\n",
    "import numpy as np\n",
    "from tqdm import tqdm\n",
    "tqdm.pandas(desc=\"progress-bar\")\n",
    "from gensim.models import Doc2Vec\n",
    "from sklearn import utils\n",
    "from sklearn.model_selection import train_test_split\n",
    "import gensim\n",
    "from sklearn.linear_model import LogisticRegression\n",
    "from gensim.models.doc2vec import TaggedDocument\n",
    "import re\n",
    "import seaborn as sns\n",
    "import matplotlib.pyplot as plt"
   ]
  },
  {
   "cell_type": "code",
   "execution_count": 3,
   "metadata": {},
   "outputs": [
    {
     "data": {
      "text/html": [
       "<div>\n",
       "<style scoped>\n",
       "    .dataframe tbody tr th:only-of-type {\n",
       "        vertical-align: middle;\n",
       "    }\n",
       "\n",
       "    .dataframe tbody tr th {\n",
       "        vertical-align: top;\n",
       "    }\n",
       "\n",
       "    .dataframe thead th {\n",
       "        text-align: right;\n",
       "    }\n",
       "</style>\n",
       "<table border=\"1\" class=\"dataframe\">\n",
       "  <thead>\n",
       "    <tr style=\"text-align: right;\">\n",
       "      <th></th>\n",
       "      <th>narrative</th>\n",
       "      <th>Product</th>\n",
       "    </tr>\n",
       "  </thead>\n",
       "  <tbody>\n",
       "    <tr>\n",
       "      <th>1</th>\n",
       "      <td>When my loan was switched over to Navient i wa...</td>\n",
       "      <td>Student loan</td>\n",
       "    </tr>\n",
       "    <tr>\n",
       "      <th>2</th>\n",
       "      <td>I tried to sign up for a spending monitoring p...</td>\n",
       "      <td>Credit card or prepaid card</td>\n",
       "    </tr>\n",
       "    <tr>\n",
       "      <th>7</th>\n",
       "      <td>My mortgage is with BB &amp; T Bank, recently I ha...</td>\n",
       "      <td>Mortgage</td>\n",
       "    </tr>\n",
       "    <tr>\n",
       "      <th>14</th>\n",
       "      <td>The entire lending experience with Citizens Ba...</td>\n",
       "      <td>Mortgage</td>\n",
       "    </tr>\n",
       "    <tr>\n",
       "      <th>15</th>\n",
       "      <td>My credit score has gone down XXXX points in t...</td>\n",
       "      <td>Credit reporting</td>\n",
       "    </tr>\n",
       "    <tr>\n",
       "      <th>17</th>\n",
       "      <td>I few months back I contacted XXXX  in regards...</td>\n",
       "      <td>Credit reporting, credit repair services, or o...</td>\n",
       "    </tr>\n",
       "    <tr>\n",
       "      <th>28</th>\n",
       "      <td>I '' m a victim of fraud and I have a file wit...</td>\n",
       "      <td>Credit reporting, credit repair services, or o...</td>\n",
       "    </tr>\n",
       "    <tr>\n",
       "      <th>30</th>\n",
       "      <td>My mortgage is owned by XXXX, we have painfull...</td>\n",
       "      <td>Mortgage</td>\n",
       "    </tr>\n",
       "    <tr>\n",
       "      <th>32</th>\n",
       "      <td>I have been disputing a Bankruptcy on my credi...</td>\n",
       "      <td>Credit reporting, credit repair services, or o...</td>\n",
       "    </tr>\n",
       "    <tr>\n",
       "      <th>54</th>\n",
       "      <td>Today I received a phone call from a number li...</td>\n",
       "      <td>Debt collection</td>\n",
       "    </tr>\n",
       "  </tbody>\n",
       "</table>\n",
       "</div>"
      ],
      "text/plain": [
       "                                            narrative  \\\n",
       "1   When my loan was switched over to Navient i wa...   \n",
       "2   I tried to sign up for a spending monitoring p...   \n",
       "7   My mortgage is with BB & T Bank, recently I ha...   \n",
       "14  The entire lending experience with Citizens Ba...   \n",
       "15  My credit score has gone down XXXX points in t...   \n",
       "17  I few months back I contacted XXXX  in regards...   \n",
       "28  I '' m a victim of fraud and I have a file wit...   \n",
       "30  My mortgage is owned by XXXX, we have painfull...   \n",
       "32  I have been disputing a Bankruptcy on my credi...   \n",
       "54  Today I received a phone call from a number li...   \n",
       "\n",
       "                                              Product  \n",
       "1                                        Student loan  \n",
       "2                         Credit card or prepaid card  \n",
       "7                                            Mortgage  \n",
       "14                                           Mortgage  \n",
       "15                                   Credit reporting  \n",
       "17  Credit reporting, credit repair services, or o...  \n",
       "28  Credit reporting, credit repair services, or o...  \n",
       "30                                           Mortgage  \n",
       "32  Credit reporting, credit repair services, or o...  \n",
       "54                                    Debt collection  "
      ]
     },
     "execution_count": 3,
     "metadata": {},
     "output_type": "execute_result"
    }
   ],
   "source": [
    "df = pd.read_csv('Consumer_Complaints.csv')\n",
    "df = df[['Consumer complaint narrative','Product']]\n",
    "df = df[pd.notnull(df['Consumer complaint narrative'])]\n",
    "df.rename(columns = {'Consumer complaint narrative':'narrative'}, inplace = True)\n",
    "df.head(10)"
   ]
  },
  {
   "cell_type": "code",
   "execution_count": 4,
   "metadata": {},
   "outputs": [
    {
     "data": {
      "text/plain": [
       "(318718, 2)"
      ]
     },
     "execution_count": 4,
     "metadata": {},
     "output_type": "execute_result"
    }
   ],
   "source": [
    "df.shape"
   ]
  },
  {
   "cell_type": "code",
   "execution_count": 5,
   "metadata": {},
   "outputs": [],
   "source": [
    "df.index = range(318718)"
   ]
  },
  {
   "cell_type": "code",
   "execution_count": 6,
   "metadata": {},
   "outputs": [
    {
     "data": {
      "text/plain": [
       "63420212"
      ]
     },
     "execution_count": 6,
     "metadata": {},
     "output_type": "execute_result"
    }
   ],
   "source": [
    "df['narrative'].apply(lambda x: len(x.split(' '))).sum()"
   ]
  },
  {
   "cell_type": "markdown",
   "metadata": {},
   "source": [
    "We have over 63 million words, it is not a small data set."
   ]
  },
  {
   "cell_type": "code",
   "execution_count": 7,
   "metadata": {},
   "outputs": [
    {
     "data": {
      "image/png": "[encoded data removed]",
      "text/plain": [
       "<matplotlib.figure.Figure at 0x207ac5379e8>"
      ]
     },
     "metadata": {},
     "output_type": "display_data"
    }
   ],
   "source": [
    "cnt_pro = df['Product'].value_counts()\n",
    "\n",
    "plt.figure(figsize=(12,4))\n",
    "sns.barplot(cnt_pro.index, cnt_pro.values, alpha=0.8)\n",
    "plt.ylabel('Number of Occurrences', fontsize=12)\n",
    "plt.xlabel('Product', fontsize=12)\n",
    "plt.xticks(rotation=90)\n",
    "plt.show();"
   ]
  },
  {
   "cell_type": "markdown",
   "metadata": {},
   "source": [
    "The classes are imbalanced. However, a naive classifier that predicts everything to be Debt collection will only achieve over 20% accuracy."
   ]
  },
  {
   "cell_type": "markdown",
   "metadata": {},
   "source": [
    "Let's have a look a few examples of complaint narrative and its associated product."
   ]
  },
  {
   "cell_type": "code",
   "execution_count": 8,
   "metadata": {},
   "outputs": [],
   "source": [
    "def print_complaint(index):\n",
    "    example = df[df.index == index][['narrative', 'Product']].values[0]\n",
    "    if len(example) > 0:\n",
    "        print(example[0])\n",
    "        print('Product:', example[1])"
   ]
  },
  {
   "cell_type": "code",
   "execution_count": 9,
   "metadata": {},
   "outputs": [
    {
     "name": "stdout",
     "output_type": "stream",
     "text": [
      "I APPARENTLY HAVE AN OUTSTANDING DEBT WITH XXXX XXXX. THEY SENT THE ACCOUNT TO XXXX  XXXX XXXX. THIS COLLECTION COMPANY CALLS MY WORK AND CELL SEVERAL TIMES A DAY. UP TO 6 TIMES A DAY. I TRY TO TELL THE COMPANY TO STOP CALLING ME AND THEY HANG UP LAUGHING. I HAVE NOT RECEIVED ANY PAPERWORK FROM THIS COMPANY. AND XXXX XXXX REFUSE TO SPEAK WITH ME. I HAVE MAILED IN A CEASE AND DESIST, AND I HAVE CALLED THEM TO GET THEIR FAX NUMBER TO SEND IN THE PAPERWORK-THEY KEEP GIVING ME DIFFERENT ONES ( FAX # XXXX ) I DON'T OWE ANY MONEY TO XXXX, I CLOSED THE ACCOUNT WITH A XXXX BALANCE AND TURNED IN ALL OF MY EQUIPMENT THAT I WAS RENTING. AND SO DID MY WIFE.\n",
      "Product: Debt collection\n"
     ]
    }
   ],
   "source": [
    "print_complaint(12)"
   ]
  },
  {
   "cell_type": "code",
   "execution_count": 10,
   "metadata": {},
   "outputs": [
    {
     "name": "stdout",
     "output_type": "stream",
     "text": [
      "In late XXXX of 2017 I requested a balance transfer from my Comenity Bank Visa card to pay off a high balance on another credit card I have. On XXXX XXXX, 2017 the charge posted to my Comenity Bank Visa card account however, as of today ( XXXX XXXX, 2017 ) they have never sent the money to pay off the other credit card. I have tried to resolve the problem with several phone calls to Comenity Bank but no one has been able to give a reasonable explanation of why they are charging my credit card account without actually sending the money to pay off the other credit card. I have also sent them a written dispute of the charge but have received no response yet.\n",
      "Product: Credit card or prepaid card\n"
     ]
    }
   ],
   "source": [
    "print_complaint(20)"
   ]
  },
  {
   "cell_type": "markdown",
   "metadata": {},
   "source": [
    "### Text preprocessing\n",
    "\n",
    "Below we define a function to convert text to lower-case and strip punctuation/symbols from words and so on."
   ]
  },
  {
   "cell_type": "code",
   "execution_count": 11,
   "metadata": {},
   "outputs": [],
   "source": [
    "from bs4 import BeautifulSoup\n",
    "def cleanText(text):\n",
    "    text = BeautifulSoup(text, \"lxml\").text\n",
    "    text = re.sub(r'\\|\\|\\|', r' ', text) \n",
    "    text = re.sub(r'http\\S+', r'<URL>', text)\n",
    "    text = text.lower()\n",
    "    text = text.replace('x', '')\n",
    "    return text\n",
    "df['narrative'] = df['narrative'].apply(cleanText)"
   ]
  },
  {
   "cell_type": "code",
   "execution_count": 12,
   "metadata": {},
   "outputs": [
    {
     "data": {
      "text/plain": [
       "'in late  of 2017 i requested a balance transfer from my comenity bank visa card to pay off a high balance on another credit card i have. on  , 2017 the charge posted to my comenity bank visa card account however, as of today (  , 2017 ) they have never sent the money to pay off the other credit card. i have tried to resolve the problem with several phone calls to comenity bank but no one has been able to give a reasonable eplanation of why they are charging my credit card account without actually sending the money to pay off the other credit card. i have also sent them a written dispute of the charge but have received no response yet.'"
      ]
     },
     "execution_count": 12,
     "metadata": {},
     "output_type": "execute_result"
    }
   ],
   "source": [
    "df['narrative'][20]"
   ]
  },
  {
   "cell_type": "markdown",
   "metadata": {},
   "source": [
    "Train/test split of 70/30."
   ]
  },
  {
   "cell_type": "code",
   "execution_count": 13,
   "metadata": {},
   "outputs": [],
   "source": [
    "train, test = train_test_split(df, test_size=0.3, random_state=42)"
   ]
  },
  {
   "cell_type": "code",
   "execution_count": 14,
   "metadata": {},
   "outputs": [],
   "source": [
    "import nltk\n",
    "from nltk.corpus import stopwords\n",
    "def tokenize_text(text):\n",
    "    tokens = []\n",
    "    for sent in nltk.sent_tokenize(text):\n",
    "        for word in nltk.word_tokenize(sent):\n",
    "            if len(word) < 2:\n",
    "                continue\n",
    "            tokens.append(word.lower())\n",
    "    return tokens"
   ]
  },
  {
   "cell_type": "code",
   "execution_count": 15,
   "metadata": {},
   "outputs": [],
   "source": [
    "train_tagged = train.apply(\n",
    "    lambda r: TaggedDocument(words=tokenize_text(r['narrative']), tags=[r.Product]), axis=1)\n",
    "test_tagged = test.apply(\n",
    "    lambda r: TaggedDocument(words=tokenize_text(r['narrative']), tags=[r.Product]), axis=1)"
   ]
  },
  {
   "cell_type": "markdown",
   "metadata": {},
   "source": [
    "This is what a training entry looks like - an example complaint narrative tagged by 'Credit reporting'."
   ]
  },
  {
   "cell_type": "code",
   "execution_count": 16,
   "metadata": {},
   "outputs": [
    {
     "data": {
      "text/plain": [
       "TaggedDocument(words=['had', 'bankruptcy', 'years', 'ago', 'and', 'it', 'is', 'still', 'showing', 'up', 'on', 'equifa', 'which', 'is', 'preventing', 'me', 'from', 'buying', 'home', 'at', 'good', 'rate', 'they', 'need', 'to', 'take', 'it', 'off', 'like', 'did', 'so', 'my', 'score', 'will', 'be'], tags=['Credit reporting'])"
      ]
     },
     "execution_count": 16,
     "metadata": {},
     "output_type": "execute_result"
    }
   ],
   "source": [
    "train_tagged.values[30]"
   ]
  },
  {
   "cell_type": "markdown",
   "metadata": {},
   "source": [
    "## Training the model\n",
    "\n",
    "We'll instantiate a Doc2Vec model-Distributed Bag of Words (DBOW). In the Word2Vec architecture, the two algorithm names are “continuous bag of words” (cbow) and “skip-gram” (sg); in the Doc2Vec architecture, the corresponding algorithms are “distributed bag of words” (dbow) and “distributed memory” (dm)."
   ]
  },
  {
   "cell_type": "markdown",
   "metadata": {},
   "source": [
    "### DBOW\n",
    "\n",
    "DBOW is the Doc2Vec model analogous to Skip-gram model in Word2Vec. The paragraph vectors are obtained by training a neural network on the task of predicting a probability distribution of words in a paragraph given a randomly-sampled word from the paragraph.\n",
    "\n",
    "Training a Doc2Vec model is rather straight forward in Gensim, we initialize the model and train for 30 epochs:"
   ]
  },
  {
   "cell_type": "markdown",
   "metadata": {},
   "source": [
    "We set the minimum word count to 2 in order to discard words with very few occurrences. "
   ]
  },
  {
   "cell_type": "code",
   "execution_count": 17,
   "metadata": {},
   "outputs": [],
   "source": [
    "import multiprocessing\n",
    "\n",
    "cores = multiprocessing.cpu_count()"
   ]
  },
  {
   "cell_type": "markdown",
   "metadata": {},
   "source": [
    "Build a vocabulary"
   ]
  },
  {
   "cell_type": "code",
   "execution_count": 19,
   "metadata": {},
   "outputs": [
    {
     "name": "stderr",
     "output_type": "stream",
     "text": [
      "100%|██████████| 223102/223102 [00:00<00:00, 2855261.21it/s]\n"
     ]
    }
   ],
   "source": [
    "model_dbow = Doc2Vec(dm=0, vector_size=300, negative=5, hs=0, min_count=2, sample = 0, workers=cores)\n",
    "model_dbow.build_vocab([x for x in tqdm(train_tagged.values)])"
   ]
  },
  {
   "cell_type": "code",
   "execution_count": 20,
   "metadata": {},
   "outputs": [
    {
     "name": "stderr",
     "output_type": "stream",
     "text": [
      "100%|██████████| 223102/223102 [00:00<00:00, 2379615.48it/s]\n",
      "100%|██████████| 223102/223102 [00:00<00:00, 2849340.50it/s]\n",
      "100%|██████████| 223102/223102 [00:00<00:00, 2100357.58it/s]\n",
      "100%|██████████| 223102/223102 [00:00<00:00, 1596907.77it/s]\n",
      "100%|██████████| 223102/223102 [00:00<00:00, 2576198.16it/s]\n",
      "100%|██████████| 223102/223102 [00:00<00:00, 1961591.50it/s]\n",
      "100%|██████████| 223102/223102 [00:00<00:00, 1799270.90it/s]\n",
      "100%|██████████| 223102/223102 [00:00<00:00, 1216525.65it/s]\n",
      "100%|██████████| 223102/223102 [00:00<00:00, 1879469.14it/s]\n",
      "100%|██████████| 223102/223102 [00:00<00:00, 2159058.65it/s]\n",
      "100%|██████████| 223102/223102 [00:00<00:00, 1851940.21it/s]\n",
      "100%|██████████| 223102/223102 [00:00<00:00, 1868324.12it/s]\n",
      "100%|██████████| 223102/223102 [00:00<00:00, 2222950.33it/s]\n",
      "100%|██████████| 223102/223102 [00:00<00:00, 2035760.37it/s]\n",
      "100%|██████████| 223102/223102 [00:00<00:00, 1791036.78it/s]\n",
      "100%|██████████| 223102/223102 [00:00<00:00, 2039549.64it/s]\n",
      "100%|██████████| 223102/223102 [00:00<00:00, 3569332.45it/s]\n",
      "100%|██████████| 223102/223102 [00:00<00:00, 2855374.47it/s]\n",
      "100%|██████████| 223102/223102 [00:00<00:00, 2855418.04it/s]\n",
      "100%|██████████| 223102/223102 [00:00<00:00, 2379567.07it/s]\n",
      "100%|██████████| 223102/223102 [00:00<00:00, 2039580.76it/s]\n",
      "100%|██████████| 223102/223102 [00:00<00:00, 2322399.87it/s]\n",
      "100%|██████████| 223102/223102 [00:00<00:00, 2517534.79it/s]\n",
      "100%|██████████| 223102/223102 [00:00<00:00, 1888184.11it/s]\n",
      "100%|██████████| 223102/223102 [00:00<00:00, 919457.47it/s]\n",
      "100%|██████████| 223102/223102 [00:00<00:00, 2060277.88it/s]\n",
      "100%|██████████| 223102/223102 [00:00<00:00, 1885517.07it/s]\n",
      "100%|██████████| 223102/223102 [00:00<00:00, 1539867.75it/s]\n",
      "100%|██████████| 223102/223102 [00:00<00:00, 2726717.42it/s]\n",
      "100%|██████████| 223102/223102 [00:00<00:00, 2033057.94it/s]\n"
     ]
    },
    {
     "name": "stdout",
     "output_type": "stream",
     "text": [
      "Wall time: 18min 24s\n"
     ]
    }
   ],
   "source": [
    "%%time\n",
    "for epoch in range(30):\n",
    "    model_dbow.train(utils.shuffle([x for x in tqdm(train_tagged.values)]), total_examples=len(train_tagged.values), epochs=1)\n",
    "    model_dbow.alpha -= 0.002\n",
    "    model_dbow.min_alpha = model_dbow.alpha"
   ]
  },
  {
   "cell_type": "markdown",
   "metadata": {},
   "source": [
    "### Buliding the final vector feature for the classifier."
   ]
  },
  {
   "cell_type": "code",
   "execution_count": 21,
   "metadata": {},
   "outputs": [],
   "source": [
    "def vec_for_learning(model, tagged_docs):\n",
    "    sents = tagged_docs.values\n",
    "    targets, regressors = zip(*[(doc.tags[0], model.infer_vector(doc.words, steps=20)) for doc in sents])\n",
    "    return targets, regressors"
   ]
  },
  {
   "cell_type": "code",
   "execution_count": 22,
   "metadata": {},
   "outputs": [],
   "source": [
    "y_train, X_train = vec_for_learning(model_dbow, train_tagged)\n",
    "y_test, X_test = vec_for_learning(model_dbow, test_tagged)"
   ]
  },
  {
   "cell_type": "code",
   "execution_count": 23,
   "metadata": {},
   "outputs": [],
   "source": [
    "logreg = LogisticRegression(n_jobs=1, C=1e5)\n",
    "logreg.fit(X_train, y_train)\n",
    "y_pred = logreg.predict(X_test)"
   ]
  },
  {
   "cell_type": "code",
   "execution_count": 24,
   "metadata": {},
   "outputs": [
    {
     "name": "stdout",
     "output_type": "stream",
     "text": [
      "Testing accuracy 0.6683609437751004\n",
      "Testing F1 score: 0.651646431211616\n"
     ]
    }
   ],
   "source": [
    "from sklearn.metrics import accuracy_score, f1_score\n",
    "\n",
    "print('Testing accuracy %s' % accuracy_score(y_test, y_pred))\n",
    "print('Testing F1 score: {}'.format(f1_score(y_test, y_pred, average='weighted')))"
   ]
  },
  {
   "cell_type": "markdown",
   "metadata": {},
   "source": [
    "### Distributed Memory with Averaging\n",
    "\n",
    "Distributed Memory (DM) acts as a memory that remembers what is missing from the current context — or as the topic of the paragraph. While the word vectors represent the concept of a word, the document vector intends to represent the concept of a document.\n",
    "We again instantiate a Doc2Vec model with a vector size with 300 words and iterating over the training corpus 30 times."
   ]
  },
  {
   "cell_type": "code",
   "execution_count": 35,
   "metadata": {},
   "outputs": [
    {
     "name": "stderr",
     "output_type": "stream",
     "text": [
      "100%|██████████| 223102/223102 [00:00<00:00, 1886113.74it/s]\n"
     ]
    }
   ],
   "source": [
    "model_dmm = Doc2Vec(dm=1, dm_mean=1, vector_size=300, window=10, negative=5, min_count=1, workers=5, alpha=0.065, min_alpha=0.065)\n",
    "model_dmm.build_vocab([x for x in tqdm(train_tagged.values)])"
   ]
  },
  {
   "cell_type": "code",
   "execution_count": 36,
   "metadata": {},
   "outputs": [
    {
     "name": "stderr",
     "output_type": "stream",
     "text": [
      "100%|██████████| 223102/223102 [00:00<00:00, 2855531.31it/s]\n",
      "100%|██████████| 223102/223102 [00:00<00:00, 1578083.26it/s]\n",
      "100%|██████████| 223102/223102 [00:00<00:00, 1745168.51it/s]\n",
      "100%|██████████| 223102/223102 [00:00<00:00, 1854244.79it/s]\n",
      "100%|██████████| 223102/223102 [00:00<00:00, 1893698.00it/s]\n",
      "100%|██████████| 223102/223102 [00:00<00:00, 1885653.85it/s]\n",
      "100%|██████████| 223102/223102 [00:00<00:00, 1869836.11it/s]\n",
      "100%|██████████| 223102/223102 [00:00<00:00, 1869832.37it/s]\n",
      "100%|██████████| 223102/223102 [00:00<00:00, 2445159.40it/s]\n",
      "100%|██████████| 223102/223102 [00:00<00:00, 2022787.35it/s]\n",
      "100%|██████████| 223102/223102 [00:00<00:00, 1165813.40it/s]\n",
      "100%|██████████| 223102/223102 [00:00<00:00, 2379542.86it/s]\n",
      "100%|██████████| 223102/223102 [00:00<00:00, 2379585.22it/s]\n",
      "100%|██████████| 223102/223102 [00:00<00:00, 1784628.78it/s]\n",
      "100%|██████████| 223102/223102 [00:00<00:00, 1784628.78it/s]\n",
      "100%|██████████| 223102/223102 [00:00<00:00, 1940508.05it/s]\n",
      "100%|██████████| 223102/223102 [00:00<00:00, 2039602.98it/s]\n",
      "100%|██████████| 223102/223102 [00:00<00:00, 1104039.77it/s]\n",
      "100%|██████████| 223102/223102 [00:00<00:00, 2039647.44it/s]\n",
      "100%|██████████| 223102/223102 [00:00<00:00, 2039562.97it/s]\n",
      "100%|██████████| 223102/223102 [00:00<00:00, 2379573.12it/s]\n",
      "100%|██████████| 223102/223102 [00:00<00:00, 2855418.04it/s]\n",
      "100%|██████████| 223102/223102 [00:00<00:00, 2379506.56it/s]\n",
      "100%|██████████| 223102/223102 [00:00<00:00, 2039554.08it/s]\n",
      "100%|██████████| 223102/223102 [00:00<00:00, 1784632.19it/s]\n",
      "100%|██████████| 223102/223102 [00:00<00:00, 1751177.79it/s]\n",
      "100%|██████████| 223102/223102 [00:00<00:00, 1892361.48it/s]\n",
      "100%|██████████| 223102/223102 [00:00<00:00, 1959722.32it/s]\n",
      "100%|██████████| 223102/223102 [00:00<00:00, 1649827.85it/s]\n",
      "100%|██████████| 223102/223102 [00:00<00:00, 2778023.03it/s]\n"
     ]
    },
    {
     "name": "stdout",
     "output_type": "stream",
     "text": [
      "Wall time: 33min 28s\n"
     ]
    }
   ],
   "source": [
    "%%time\n",
    "for epoch in range(30):\n",
    "    model_dmm.train(utils.shuffle([x for x in tqdm(train_tagged.values)]), total_examples=len(train_tagged.values), epochs=1)\n",
    "    model_dmm.alpha -= 0.002\n",
    "    model_dmm.min_alpha = model_dmm.alpha"
   ]
  },
  {
   "cell_type": "markdown",
   "metadata": {},
   "source": [
    "### Train Logistic Regression"
   ]
  },
  {
   "cell_type": "code",
   "execution_count": 37,
   "metadata": {},
   "outputs": [
    {
     "name": "stdout",
     "output_type": "stream",
     "text": [
      "Testing accuracy 0.47498326639892907\n",
      "Testing F1 score: 0.4445833078167434\n"
     ]
    }
   ],
   "source": [
    "y_train, X_train = vec_for_learning(model_dmm, train_tagged)\n",
    "y_test, X_test = vec_for_learning(model_dmm, test_tagged)\n",
    "\n",
    "logreg.fit(X_train, y_train)\n",
    "y_pred = logreg.predict(X_test)\n",
    "\n",
    "print('Testing accuracy %s' % accuracy_score(y_test, y_pred))\n",
    "print('Testing F1 score: {}'.format(f1_score(y_test, y_pred, average='weighted')))"
   ]
  },
  {
   "cell_type": "code",
   "execution_count": 42,
   "metadata": {},
   "outputs": [],
   "source": [
    "model_dbow.delete_temporary_training_data(keep_doctags_vectors=True, keep_inference=True)\n",
    "model_dmm.delete_temporary_training_data(keep_doctags_vectors=True, keep_inference=True)"
   ]
  },
  {
   "cell_type": "code",
   "execution_count": 46,
   "metadata": {},
   "outputs": [],
   "source": [
    "from gensim.test.test_doc2vec import ConcatenatedDoc2Vec\n",
    "new_model = ConcatenatedDoc2Vec([model_dbow, model_dmm])"
   ]
  },
  {
   "cell_type": "code",
   "execution_count": 48,
   "metadata": {},
   "outputs": [],
   "source": [
    "def get_vectors(model, tagged_docs):\n",
    "    sents = tagged_docs.values\n",
    "    targets, regressors = zip(*[(doc.tags[0], model.infer_vector(doc.words, steps=20)) for doc in sents])\n",
    "    return targets, regressors"
   ]
  },
  {
   "cell_type": "code",
   "execution_count": 49,
   "metadata": {},
   "outputs": [],
   "source": [
    "y_train, X_train = get_vectors(new_model, train_tagged)\n",
    "y_test, X_test = get_vectors(new_model, test_tagged)"
   ]
  },
  {
   "cell_type": "code",
   "execution_count": 50,
   "metadata": {},
   "outputs": [
    {
     "name": "stdout",
     "output_type": "stream",
     "text": [
      "Testing accuracy 0.6778572623828648\n",
      "Testing F1 score: 0.664561533967402\n"
     ]
    }
   ],
   "source": [
    "logreg.fit(X_train, y_train)\n",
    "y_pred = logreg.predict(X_test)\n",
    "\n",
    "print('Testing accuracy %s' % accuracy_score(y_test, y_pred))\n",
    "print('Testing F1 score: {}'.format(f1_score(y_test, y_pred, average='weighted')))"
   ]
  },
  {
   "cell_type": "code",
   "execution_count": null,
   "metadata": {},
   "outputs": [],
   "source": []
  }
 ],
 "metadata": {
  "kernelspec": {
   "display_name": "Python 3",
   "language": "python",
   "name": "python3"
  },
  "language_info": {
   "codemirror_mode": {
    "name": "ipython",
    "version": 3
   },
   "file_extension": ".py",
   "mimetype": "text/x-python",
   "name": "python",
   "nbconvert_exporter": "python",
   "pygments_lexer": "ipython3",
   "version": "3.6.4"
  }
 },
 "nbformat": 4,
 "nbformat_minor": 2
}
